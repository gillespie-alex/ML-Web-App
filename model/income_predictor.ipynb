{
 "cells": [
  {
   "cell_type": "markdown",
   "metadata": {},
   "source": [
    "## Import Libraries"
   ]
  },
  {
   "cell_type": "code",
   "execution_count": 1,
   "metadata": {
    "execution": {
     "iopub.execute_input": "2022-07-08T03:04:08.09096Z",
     "iopub.status.busy": "2022-07-08T03:04:08.090735Z",
     "iopub.status.idle": "2022-07-08T03:04:08.097109Z",
     "shell.execute_reply": "2022-07-08T03:04:08.095745Z",
     "shell.execute_reply.started": "2022-07-08T03:04:08.090936Z"
    }
   },
   "outputs": [],
   "source": [
    "import pandas as pd\n",
    "import numpy as np\n",
    "import seaborn as sns\n",
    "import matplotlib.pyplot as plt\n",
    "from sklearn import metrics\n",
    "from sklearn.metrics import classification_report, accuracy_score, confusion_matrix, auc,roc_curve,roc_auc_score\n",
    "from sklearn.ensemble import AdaBoostClassifier, RandomForestClassifier\n",
    "from sklearn.model_selection import train_test_split, RandomizedSearchCV, GridSearchCV\n",
    "import xgboost as xgb\n",
    "from sklearn.tree import DecisionTreeClassifier\n",
    "from sklearn.preprocessing import MinMaxScaler"
   ]
  },
  {
   "cell_type": "markdown",
   "metadata": {},
   "source": [
    "## Import Dataset "
   ]
  },
  {
   "cell_type": "code",
   "execution_count": 2,
   "metadata": {
    "execution": {
     "iopub.execute_input": "2022-07-08T03:04:08.098589Z",
     "iopub.status.busy": "2022-07-08T03:04:08.098286Z",
     "iopub.status.idle": "2022-07-08T03:04:08.216583Z",
     "shell.execute_reply": "2022-07-08T03:04:08.215865Z",
     "shell.execute_reply.started": "2022-07-08T03:04:08.09856Z"
    }
   },
   "outputs": [
    {
     "data": {
      "text/html": [
       "<div>\n",
       "<style scoped>\n",
       "    .dataframe tbody tr th:only-of-type {\n",
       "        vertical-align: middle;\n",
       "    }\n",
       "\n",
       "    .dataframe tbody tr th {\n",
       "        vertical-align: top;\n",
       "    }\n",
       "\n",
       "    .dataframe thead th {\n",
       "        text-align: right;\n",
       "    }\n",
       "</style>\n",
       "<table border=\"1\" class=\"dataframe\">\n",
       "  <thead>\n",
       "    <tr style=\"text-align: right;\">\n",
       "      <th></th>\n",
       "      <th>age</th>\n",
       "      <th>workclass</th>\n",
       "      <th>fnlwgt</th>\n",
       "      <th>education</th>\n",
       "      <th>educational-num</th>\n",
       "      <th>marital-status</th>\n",
       "      <th>occupation</th>\n",
       "      <th>relationship</th>\n",
       "      <th>race</th>\n",
       "      <th>gender</th>\n",
       "      <th>capital-gain</th>\n",
       "      <th>capital-loss</th>\n",
       "      <th>hours-per-week</th>\n",
       "      <th>native-country</th>\n",
       "      <th>income</th>\n",
       "    </tr>\n",
       "  </thead>\n",
       "  <tbody>\n",
       "    <tr>\n",
       "      <th>0</th>\n",
       "      <td>25</td>\n",
       "      <td>Private</td>\n",
       "      <td>226802</td>\n",
       "      <td>11th</td>\n",
       "      <td>7</td>\n",
       "      <td>Never-married</td>\n",
       "      <td>Machine-op-inspct</td>\n",
       "      <td>Own-child</td>\n",
       "      <td>Black</td>\n",
       "      <td>Male</td>\n",
       "      <td>0</td>\n",
       "      <td>0</td>\n",
       "      <td>40</td>\n",
       "      <td>United-States</td>\n",
       "      <td>&lt;=50K</td>\n",
       "    </tr>\n",
       "    <tr>\n",
       "      <th>1</th>\n",
       "      <td>38</td>\n",
       "      <td>Private</td>\n",
       "      <td>89814</td>\n",
       "      <td>HS-grad</td>\n",
       "      <td>9</td>\n",
       "      <td>Married-civ-spouse</td>\n",
       "      <td>Farming-fishing</td>\n",
       "      <td>Husband</td>\n",
       "      <td>White</td>\n",
       "      <td>Male</td>\n",
       "      <td>0</td>\n",
       "      <td>0</td>\n",
       "      <td>50</td>\n",
       "      <td>United-States</td>\n",
       "      <td>&lt;=50K</td>\n",
       "    </tr>\n",
       "    <tr>\n",
       "      <th>2</th>\n",
       "      <td>28</td>\n",
       "      <td>Local-gov</td>\n",
       "      <td>336951</td>\n",
       "      <td>Assoc-acdm</td>\n",
       "      <td>12</td>\n",
       "      <td>Married-civ-spouse</td>\n",
       "      <td>Protective-serv</td>\n",
       "      <td>Husband</td>\n",
       "      <td>White</td>\n",
       "      <td>Male</td>\n",
       "      <td>0</td>\n",
       "      <td>0</td>\n",
       "      <td>40</td>\n",
       "      <td>United-States</td>\n",
       "      <td>&gt;50K</td>\n",
       "    </tr>\n",
       "    <tr>\n",
       "      <th>3</th>\n",
       "      <td>44</td>\n",
       "      <td>Private</td>\n",
       "      <td>160323</td>\n",
       "      <td>Some-college</td>\n",
       "      <td>10</td>\n",
       "      <td>Married-civ-spouse</td>\n",
       "      <td>Machine-op-inspct</td>\n",
       "      <td>Husband</td>\n",
       "      <td>Black</td>\n",
       "      <td>Male</td>\n",
       "      <td>7688</td>\n",
       "      <td>0</td>\n",
       "      <td>40</td>\n",
       "      <td>United-States</td>\n",
       "      <td>&gt;50K</td>\n",
       "    </tr>\n",
       "    <tr>\n",
       "      <th>4</th>\n",
       "      <td>18</td>\n",
       "      <td>?</td>\n",
       "      <td>103497</td>\n",
       "      <td>Some-college</td>\n",
       "      <td>10</td>\n",
       "      <td>Never-married</td>\n",
       "      <td>?</td>\n",
       "      <td>Own-child</td>\n",
       "      <td>White</td>\n",
       "      <td>Female</td>\n",
       "      <td>0</td>\n",
       "      <td>0</td>\n",
       "      <td>30</td>\n",
       "      <td>United-States</td>\n",
       "      <td>&lt;=50K</td>\n",
       "    </tr>\n",
       "  </tbody>\n",
       "</table>\n",
       "</div>"
      ],
      "text/plain": [
       "   age  workclass  fnlwgt     education  educational-num      marital-status  \\\n",
       "0   25    Private  226802          11th                7       Never-married   \n",
       "1   38    Private   89814       HS-grad                9  Married-civ-spouse   \n",
       "2   28  Local-gov  336951    Assoc-acdm               12  Married-civ-spouse   \n",
       "3   44    Private  160323  Some-college               10  Married-civ-spouse   \n",
       "4   18          ?  103497  Some-college               10       Never-married   \n",
       "\n",
       "          occupation relationship   race  gender  capital-gain  capital-loss  \\\n",
       "0  Machine-op-inspct    Own-child  Black    Male             0             0   \n",
       "1    Farming-fishing      Husband  White    Male             0             0   \n",
       "2    Protective-serv      Husband  White    Male             0             0   \n",
       "3  Machine-op-inspct      Husband  Black    Male          7688             0   \n",
       "4                  ?    Own-child  White  Female             0             0   \n",
       "\n",
       "   hours-per-week native-country income  \n",
       "0              40  United-States  <=50K  \n",
       "1              50  United-States  <=50K  \n",
       "2              40  United-States   >50K  \n",
       "3              40  United-States   >50K  \n",
       "4              30  United-States  <=50K  "
      ]
     },
     "execution_count": 2,
     "metadata": {},
     "output_type": "execute_result"
    }
   ],
   "source": [
    "data= pd.read_csv('adult.csv')\n",
    "data.head()"
   ]
  },
  {
   "cell_type": "code",
   "execution_count": 3,
   "metadata": {
    "execution": {
     "iopub.execute_input": "2022-07-08T03:04:08.219088Z",
     "iopub.status.busy": "2022-07-08T03:04:08.218823Z",
     "iopub.status.idle": "2022-07-08T03:04:08.281507Z",
     "shell.execute_reply": "2022-07-08T03:04:08.280693Z",
     "shell.execute_reply.started": "2022-07-08T03:04:08.219057Z"
    }
   },
   "outputs": [
    {
     "data": {
      "text/html": [
       "<div>\n",
       "<style scoped>\n",
       "    .dataframe tbody tr th:only-of-type {\n",
       "        vertical-align: middle;\n",
       "    }\n",
       "\n",
       "    .dataframe tbody tr th {\n",
       "        vertical-align: top;\n",
       "    }\n",
       "\n",
       "    .dataframe thead th {\n",
       "        text-align: right;\n",
       "    }\n",
       "</style>\n",
       "<table border=\"1\" class=\"dataframe\">\n",
       "  <thead>\n",
       "    <tr style=\"text-align: right;\">\n",
       "      <th></th>\n",
       "      <th>age</th>\n",
       "      <th>workclass</th>\n",
       "      <th>fnlwgt</th>\n",
       "      <th>education</th>\n",
       "      <th>educational-num</th>\n",
       "      <th>marital-status</th>\n",
       "      <th>occupation</th>\n",
       "      <th>relationship</th>\n",
       "      <th>race</th>\n",
       "      <th>gender</th>\n",
       "      <th>capital-gain</th>\n",
       "      <th>capital-loss</th>\n",
       "      <th>hours-per-week</th>\n",
       "      <th>native-country</th>\n",
       "      <th>income</th>\n",
       "    </tr>\n",
       "  </thead>\n",
       "  <tbody>\n",
       "    <tr>\n",
       "      <th>count</th>\n",
       "      <td>48842.000000</td>\n",
       "      <td>48842</td>\n",
       "      <td>4.884200e+04</td>\n",
       "      <td>48842</td>\n",
       "      <td>48842.000000</td>\n",
       "      <td>48842</td>\n",
       "      <td>48842</td>\n",
       "      <td>48842</td>\n",
       "      <td>48842</td>\n",
       "      <td>48842</td>\n",
       "      <td>48842.000000</td>\n",
       "      <td>48842.000000</td>\n",
       "      <td>48842.000000</td>\n",
       "      <td>48842</td>\n",
       "      <td>48842</td>\n",
       "    </tr>\n",
       "    <tr>\n",
       "      <th>unique</th>\n",
       "      <td>NaN</td>\n",
       "      <td>9</td>\n",
       "      <td>NaN</td>\n",
       "      <td>16</td>\n",
       "      <td>NaN</td>\n",
       "      <td>7</td>\n",
       "      <td>15</td>\n",
       "      <td>6</td>\n",
       "      <td>5</td>\n",
       "      <td>2</td>\n",
       "      <td>NaN</td>\n",
       "      <td>NaN</td>\n",
       "      <td>NaN</td>\n",
       "      <td>42</td>\n",
       "      <td>2</td>\n",
       "    </tr>\n",
       "    <tr>\n",
       "      <th>top</th>\n",
       "      <td>NaN</td>\n",
       "      <td>Private</td>\n",
       "      <td>NaN</td>\n",
       "      <td>HS-grad</td>\n",
       "      <td>NaN</td>\n",
       "      <td>Married-civ-spouse</td>\n",
       "      <td>Prof-specialty</td>\n",
       "      <td>Husband</td>\n",
       "      <td>White</td>\n",
       "      <td>Male</td>\n",
       "      <td>NaN</td>\n",
       "      <td>NaN</td>\n",
       "      <td>NaN</td>\n",
       "      <td>United-States</td>\n",
       "      <td>&lt;=50K</td>\n",
       "    </tr>\n",
       "    <tr>\n",
       "      <th>freq</th>\n",
       "      <td>NaN</td>\n",
       "      <td>33906</td>\n",
       "      <td>NaN</td>\n",
       "      <td>15784</td>\n",
       "      <td>NaN</td>\n",
       "      <td>22379</td>\n",
       "      <td>6172</td>\n",
       "      <td>19716</td>\n",
       "      <td>41762</td>\n",
       "      <td>32650</td>\n",
       "      <td>NaN</td>\n",
       "      <td>NaN</td>\n",
       "      <td>NaN</td>\n",
       "      <td>43832</td>\n",
       "      <td>37155</td>\n",
       "    </tr>\n",
       "    <tr>\n",
       "      <th>mean</th>\n",
       "      <td>38.643585</td>\n",
       "      <td>NaN</td>\n",
       "      <td>1.896641e+05</td>\n",
       "      <td>NaN</td>\n",
       "      <td>10.078089</td>\n",
       "      <td>NaN</td>\n",
       "      <td>NaN</td>\n",
       "      <td>NaN</td>\n",
       "      <td>NaN</td>\n",
       "      <td>NaN</td>\n",
       "      <td>1079.067626</td>\n",
       "      <td>87.502314</td>\n",
       "      <td>40.422382</td>\n",
       "      <td>NaN</td>\n",
       "      <td>NaN</td>\n",
       "    </tr>\n",
       "    <tr>\n",
       "      <th>std</th>\n",
       "      <td>13.710510</td>\n",
       "      <td>NaN</td>\n",
       "      <td>1.056040e+05</td>\n",
       "      <td>NaN</td>\n",
       "      <td>2.570973</td>\n",
       "      <td>NaN</td>\n",
       "      <td>NaN</td>\n",
       "      <td>NaN</td>\n",
       "      <td>NaN</td>\n",
       "      <td>NaN</td>\n",
       "      <td>7452.019058</td>\n",
       "      <td>403.004552</td>\n",
       "      <td>12.391444</td>\n",
       "      <td>NaN</td>\n",
       "      <td>NaN</td>\n",
       "    </tr>\n",
       "    <tr>\n",
       "      <th>min</th>\n",
       "      <td>17.000000</td>\n",
       "      <td>NaN</td>\n",
       "      <td>1.228500e+04</td>\n",
       "      <td>NaN</td>\n",
       "      <td>1.000000</td>\n",
       "      <td>NaN</td>\n",
       "      <td>NaN</td>\n",
       "      <td>NaN</td>\n",
       "      <td>NaN</td>\n",
       "      <td>NaN</td>\n",
       "      <td>0.000000</td>\n",
       "      <td>0.000000</td>\n",
       "      <td>1.000000</td>\n",
       "      <td>NaN</td>\n",
       "      <td>NaN</td>\n",
       "    </tr>\n",
       "    <tr>\n",
       "      <th>25%</th>\n",
       "      <td>28.000000</td>\n",
       "      <td>NaN</td>\n",
       "      <td>1.175505e+05</td>\n",
       "      <td>NaN</td>\n",
       "      <td>9.000000</td>\n",
       "      <td>NaN</td>\n",
       "      <td>NaN</td>\n",
       "      <td>NaN</td>\n",
       "      <td>NaN</td>\n",
       "      <td>NaN</td>\n",
       "      <td>0.000000</td>\n",
       "      <td>0.000000</td>\n",
       "      <td>40.000000</td>\n",
       "      <td>NaN</td>\n",
       "      <td>NaN</td>\n",
       "    </tr>\n",
       "    <tr>\n",
       "      <th>50%</th>\n",
       "      <td>37.000000</td>\n",
       "      <td>NaN</td>\n",
       "      <td>1.781445e+05</td>\n",
       "      <td>NaN</td>\n",
       "      <td>10.000000</td>\n",
       "      <td>NaN</td>\n",
       "      <td>NaN</td>\n",
       "      <td>NaN</td>\n",
       "      <td>NaN</td>\n",
       "      <td>NaN</td>\n",
       "      <td>0.000000</td>\n",
       "      <td>0.000000</td>\n",
       "      <td>40.000000</td>\n",
       "      <td>NaN</td>\n",
       "      <td>NaN</td>\n",
       "    </tr>\n",
       "    <tr>\n",
       "      <th>75%</th>\n",
       "      <td>48.000000</td>\n",
       "      <td>NaN</td>\n",
       "      <td>2.376420e+05</td>\n",
       "      <td>NaN</td>\n",
       "      <td>12.000000</td>\n",
       "      <td>NaN</td>\n",
       "      <td>NaN</td>\n",
       "      <td>NaN</td>\n",
       "      <td>NaN</td>\n",
       "      <td>NaN</td>\n",
       "      <td>0.000000</td>\n",
       "      <td>0.000000</td>\n",
       "      <td>45.000000</td>\n",
       "      <td>NaN</td>\n",
       "      <td>NaN</td>\n",
       "    </tr>\n",
       "    <tr>\n",
       "      <th>max</th>\n",
       "      <td>90.000000</td>\n",
       "      <td>NaN</td>\n",
       "      <td>1.490400e+06</td>\n",
       "      <td>NaN</td>\n",
       "      <td>16.000000</td>\n",
       "      <td>NaN</td>\n",
       "      <td>NaN</td>\n",
       "      <td>NaN</td>\n",
       "      <td>NaN</td>\n",
       "      <td>NaN</td>\n",
       "      <td>99999.000000</td>\n",
       "      <td>4356.000000</td>\n",
       "      <td>99.000000</td>\n",
       "      <td>NaN</td>\n",
       "      <td>NaN</td>\n",
       "    </tr>\n",
       "  </tbody>\n",
       "</table>\n",
       "</div>"
      ],
      "text/plain": [
       "                 age workclass        fnlwgt education  educational-num  \\\n",
       "count   48842.000000     48842  4.884200e+04     48842     48842.000000   \n",
       "unique           NaN         9           NaN        16              NaN   \n",
       "top              NaN   Private           NaN   HS-grad              NaN   \n",
       "freq             NaN     33906           NaN     15784              NaN   \n",
       "mean       38.643585       NaN  1.896641e+05       NaN        10.078089   \n",
       "std        13.710510       NaN  1.056040e+05       NaN         2.570973   \n",
       "min        17.000000       NaN  1.228500e+04       NaN         1.000000   \n",
       "25%        28.000000       NaN  1.175505e+05       NaN         9.000000   \n",
       "50%        37.000000       NaN  1.781445e+05       NaN        10.000000   \n",
       "75%        48.000000       NaN  2.376420e+05       NaN        12.000000   \n",
       "max        90.000000       NaN  1.490400e+06       NaN        16.000000   \n",
       "\n",
       "            marital-status      occupation relationship   race gender  \\\n",
       "count                48842           48842        48842  48842  48842   \n",
       "unique                   7              15            6      5      2   \n",
       "top     Married-civ-spouse  Prof-specialty      Husband  White   Male   \n",
       "freq                 22379            6172        19716  41762  32650   \n",
       "mean                   NaN             NaN          NaN    NaN    NaN   \n",
       "std                    NaN             NaN          NaN    NaN    NaN   \n",
       "min                    NaN             NaN          NaN    NaN    NaN   \n",
       "25%                    NaN             NaN          NaN    NaN    NaN   \n",
       "50%                    NaN             NaN          NaN    NaN    NaN   \n",
       "75%                    NaN             NaN          NaN    NaN    NaN   \n",
       "max                    NaN             NaN          NaN    NaN    NaN   \n",
       "\n",
       "        capital-gain  capital-loss  hours-per-week native-country income  \n",
       "count   48842.000000  48842.000000    48842.000000          48842  48842  \n",
       "unique           NaN           NaN             NaN             42      2  \n",
       "top              NaN           NaN             NaN  United-States  <=50K  \n",
       "freq             NaN           NaN             NaN          43832  37155  \n",
       "mean     1079.067626     87.502314       40.422382            NaN    NaN  \n",
       "std      7452.019058    403.004552       12.391444            NaN    NaN  \n",
       "min         0.000000      0.000000        1.000000            NaN    NaN  \n",
       "25%         0.000000      0.000000       40.000000            NaN    NaN  \n",
       "50%         0.000000      0.000000       40.000000            NaN    NaN  \n",
       "75%         0.000000      0.000000       45.000000            NaN    NaN  \n",
       "max     99999.000000   4356.000000       99.000000            NaN    NaN  "
      ]
     },
     "execution_count": 3,
     "metadata": {},
     "output_type": "execute_result"
    }
   ],
   "source": [
    "data.describe(include='all')"
   ]
  },
  {
   "cell_type": "code",
   "execution_count": 4,
   "metadata": {
    "execution": {
     "iopub.execute_input": "2022-07-08T03:04:08.283291Z",
     "iopub.status.busy": "2022-07-08T03:04:08.282879Z",
     "iopub.status.idle": "2022-07-08T03:04:08.291354Z",
     "shell.execute_reply": "2022-07-08T03:04:08.290333Z",
     "shell.execute_reply.started": "2022-07-08T03:04:08.283266Z"
    }
   },
   "outputs": [
    {
     "data": {
      "text/plain": [
       "age                 int64\n",
       "workclass          object\n",
       "fnlwgt              int64\n",
       "education          object\n",
       "educational-num     int64\n",
       "marital-status     object\n",
       "occupation         object\n",
       "relationship       object\n",
       "race               object\n",
       "gender             object\n",
       "capital-gain        int64\n",
       "capital-loss        int64\n",
       "hours-per-week      int64\n",
       "native-country     object\n",
       "income             object\n",
       "dtype: object"
      ]
     },
     "execution_count": 4,
     "metadata": {},
     "output_type": "execute_result"
    }
   ],
   "source": [
    "data.dtypes"
   ]
  },
  {
   "cell_type": "code",
   "execution_count": 7,
   "metadata": {
    "execution": {
     "iopub.execute_input": "2022-07-08T03:04:08.294182Z",
     "iopub.status.busy": "2022-07-08T03:04:08.293398Z",
     "iopub.status.idle": "2022-07-08T03:04:08.313314Z",
     "shell.execute_reply": "2022-07-08T03:04:08.312559Z",
     "shell.execute_reply.started": "2022-07-08T03:04:08.294144Z"
    }
   },
   "outputs": [],
   "source": [
    "data.replace('?', np.nan, inplace=True)"
   ]
  },
  {
   "cell_type": "code",
   "execution_count": null,
   "metadata": {
    "execution": {
     "iopub.execute_input": "2022-07-08T03:04:08.314932Z",
     "iopub.status.busy": "2022-07-08T03:04:08.314642Z",
     "iopub.status.idle": "2022-07-08T03:04:08.846341Z",
     "shell.execute_reply": "2022-07-08T03:04:08.845365Z",
     "shell.execute_reply.started": "2022-07-08T03:04:08.314903Z"
    }
   },
   "outputs": [],
   "source": [
    "data['occupation'].value_counts()[:20].plot(kind='barh')\n",
    "plt.title('Missing values in occupation')\n",
    "plt.show();\n",
    "data['native-country'].value_counts()[:20].plot(kind='barh')\n",
    "plt.title('Missing values in Native Country')\n",
    "plt.show();\n",
    "data['workclass'].value_counts()[:20].plot(kind='barh')\n",
    "plt.title('Missing values in Work Class')\n",
    "plt.show();"
   ]
  },
  {
   "cell_type": "code",
   "execution_count": null,
   "metadata": {
    "execution": {
     "iopub.execute_input": "2022-07-08T03:04:08.849043Z",
     "iopub.status.busy": "2022-07-08T03:04:08.848805Z",
     "iopub.status.idle": "2022-07-08T03:04:08.856307Z",
     "shell.execute_reply": "2022-07-08T03:04:08.855792Z",
     "shell.execute_reply.started": "2022-07-08T03:04:08.84902Z"
    }
   },
   "outputs": [],
   "source": [
    "data.dtypes"
   ]
  },
  {
   "cell_type": "code",
   "execution_count": 12,
   "metadata": {
    "scrolled": true
   },
   "outputs": [
    {
     "data": {
      "text/html": [
       "<div>\n",
       "<style scoped>\n",
       "    .dataframe tbody tr th:only-of-type {\n",
       "        vertical-align: middle;\n",
       "    }\n",
       "\n",
       "    .dataframe tbody tr th {\n",
       "        vertical-align: top;\n",
       "    }\n",
       "\n",
       "    .dataframe thead th {\n",
       "        text-align: right;\n",
       "    }\n",
       "</style>\n",
       "<table border=\"1\" class=\"dataframe\">\n",
       "  <thead>\n",
       "    <tr style=\"text-align: right;\">\n",
       "      <th></th>\n",
       "      <th>age</th>\n",
       "      <th>workclass</th>\n",
       "      <th>fnlwgt</th>\n",
       "      <th>education</th>\n",
       "      <th>educational-num</th>\n",
       "      <th>marital-status</th>\n",
       "      <th>occupation</th>\n",
       "      <th>relationship</th>\n",
       "      <th>race</th>\n",
       "      <th>gender</th>\n",
       "      <th>capital-gain</th>\n",
       "      <th>capital-loss</th>\n",
       "      <th>hours-per-week</th>\n",
       "      <th>native-country</th>\n",
       "      <th>income</th>\n",
       "    </tr>\n",
       "  </thead>\n",
       "  <tbody>\n",
       "    <tr>\n",
       "      <th>0</th>\n",
       "      <td>25</td>\n",
       "      <td>Private</td>\n",
       "      <td>226802</td>\n",
       "      <td>11th</td>\n",
       "      <td>7</td>\n",
       "      <td>Never-married</td>\n",
       "      <td>Machine-op-inspct</td>\n",
       "      <td>Own-child</td>\n",
       "      <td>Black</td>\n",
       "      <td>Male</td>\n",
       "      <td>0</td>\n",
       "      <td>0</td>\n",
       "      <td>40</td>\n",
       "      <td>United-States</td>\n",
       "      <td>&lt;=50K</td>\n",
       "    </tr>\n",
       "    <tr>\n",
       "      <th>1</th>\n",
       "      <td>38</td>\n",
       "      <td>Private</td>\n",
       "      <td>89814</td>\n",
       "      <td>HS-grad</td>\n",
       "      <td>9</td>\n",
       "      <td>Married-civ-spouse</td>\n",
       "      <td>Farming-fishing</td>\n",
       "      <td>Husband</td>\n",
       "      <td>White</td>\n",
       "      <td>Male</td>\n",
       "      <td>0</td>\n",
       "      <td>0</td>\n",
       "      <td>50</td>\n",
       "      <td>United-States</td>\n",
       "      <td>&lt;=50K</td>\n",
       "    </tr>\n",
       "    <tr>\n",
       "      <th>2</th>\n",
       "      <td>28</td>\n",
       "      <td>Local-gov</td>\n",
       "      <td>336951</td>\n",
       "      <td>Assoc-acdm</td>\n",
       "      <td>12</td>\n",
       "      <td>Married-civ-spouse</td>\n",
       "      <td>Protective-serv</td>\n",
       "      <td>Husband</td>\n",
       "      <td>White</td>\n",
       "      <td>Male</td>\n",
       "      <td>0</td>\n",
       "      <td>0</td>\n",
       "      <td>40</td>\n",
       "      <td>United-States</td>\n",
       "      <td>&gt;50K</td>\n",
       "    </tr>\n",
       "    <tr>\n",
       "      <th>3</th>\n",
       "      <td>44</td>\n",
       "      <td>Private</td>\n",
       "      <td>160323</td>\n",
       "      <td>Some-college</td>\n",
       "      <td>10</td>\n",
       "      <td>Married-civ-spouse</td>\n",
       "      <td>Machine-op-inspct</td>\n",
       "      <td>Husband</td>\n",
       "      <td>Black</td>\n",
       "      <td>Male</td>\n",
       "      <td>7688</td>\n",
       "      <td>0</td>\n",
       "      <td>40</td>\n",
       "      <td>United-States</td>\n",
       "      <td>&gt;50K</td>\n",
       "    </tr>\n",
       "    <tr>\n",
       "      <th>4</th>\n",
       "      <td>18</td>\n",
       "      <td>Self Employed</td>\n",
       "      <td>103497</td>\n",
       "      <td>Some-college</td>\n",
       "      <td>10</td>\n",
       "      <td>Never-married</td>\n",
       "      <td>NaN</td>\n",
       "      <td>Own-child</td>\n",
       "      <td>White</td>\n",
       "      <td>Female</td>\n",
       "      <td>0</td>\n",
       "      <td>0</td>\n",
       "      <td>30</td>\n",
       "      <td>United-States</td>\n",
       "      <td>&lt;=50K</td>\n",
       "    </tr>\n",
       "  </tbody>\n",
       "</table>\n",
       "</div>"
      ],
      "text/plain": [
       "   age      workclass  fnlwgt     education  educational-num  \\\n",
       "0   25        Private  226802          11th                7   \n",
       "1   38        Private   89814       HS-grad                9   \n",
       "2   28      Local-gov  336951    Assoc-acdm               12   \n",
       "3   44        Private  160323  Some-college               10   \n",
       "4   18  Self Employed  103497  Some-college               10   \n",
       "\n",
       "       marital-status         occupation relationship   race  gender  \\\n",
       "0       Never-married  Machine-op-inspct    Own-child  Black    Male   \n",
       "1  Married-civ-spouse    Farming-fishing      Husband  White    Male   \n",
       "2  Married-civ-spouse    Protective-serv      Husband  White    Male   \n",
       "3  Married-civ-spouse  Machine-op-inspct      Husband  Black    Male   \n",
       "4       Never-married                NaN    Own-child  White  Female   \n",
       "\n",
       "   capital-gain  capital-loss  hours-per-week native-country income  \n",
       "0             0             0              40  United-States  <=50K  \n",
       "1             0             0              50  United-States  <=50K  \n",
       "2             0             0              40  United-States   >50K  \n",
       "3          7688             0              40  United-States   >50K  \n",
       "4             0             0              30  United-States  <=50K  "
      ]
     },
     "execution_count": 12,
     "metadata": {},
     "output_type": "execute_result"
    }
   ],
   "source": [
    "data.head()"
   ]
  },
  {
   "cell_type": "code",
   "execution_count": 9,
   "metadata": {
    "execution": {
     "iopub.execute_input": "2022-07-08T03:04:08.857686Z",
     "iopub.status.busy": "2022-07-08T03:04:08.857287Z",
     "iopub.status.idle": "2022-07-08T03:04:08.905597Z",
     "shell.execute_reply": "2022-07-08T03:04:08.904631Z",
     "shell.execute_reply.started": "2022-07-08T03:04:08.857659Z"
    }
   },
   "outputs": [
    {
     "data": {
      "text/plain": [
       "array(['United-States', 'North America', 'Peru', 'Guatemala', 'Mexico',\n",
       "       'Dominican-Republic', 'Ireland', 'Germany', 'Philippines',\n",
       "       'Thailand', 'Haiti', 'El-Salvador', 'Puerto-Rico', 'Vietnam',\n",
       "       'South', 'Columbia', 'Japan', 'India', 'Cambodia', 'Poland',\n",
       "       'Laos', 'England', 'Cuba', 'Taiwan', 'Italy', 'Canada', 'Portugal',\n",
       "       'China', 'Nicaragua', 'Honduras', 'Iran', 'Scotland', 'Jamaica',\n",
       "       'Ecuador', 'Yugoslavia', 'Hungary', 'Hong', 'Greece',\n",
       "       'Trinadad&Tobago', 'Outlying-US(Guam-USVI-etc)', 'France',\n",
       "       'Holand-Netherlands'], dtype=object)"
      ]
     },
     "execution_count": 9,
     "metadata": {},
     "output_type": "execute_result"
    }
   ],
   "source": [
    "data['native-country'].replace([' Canada', ' Cuba', ' Dominican-Republic', ' El-Salvador', ' Guatemala',' Haiti', ' Honduras', ' Jamaica',\n",
    "              ' Mexico', ' Nicaragua',' Outlying-US(Guam-USVI-etc)', ' Puerto-Rico', ' Trinadad&Tobago',' United-States',np.nan]\n",
    "             ,'North America', inplace = True)\n",
    "\n",
    "data['native-country'].replace([' Cambodia', ' China', ' Hong', ' India', ' Iran', ' Japan', ' Laos',\n",
    "          ' Philippines', ' Taiwan', ' Thailand', ' Vietnam'],'Asia', inplace = True)\n",
    "\n",
    "data['native-country'].replace([' Columbia', ' Ecuador', ' Peru'],'South America', inplace = True)\n",
    "\n",
    "data['native-country'].replace([' England', ' France', ' Germany', ' Greece', ' Holand-Netherlands',\n",
    "            ' Hungary', ' Ireland', ' Italy', ' Poland', ' Portugal', ' Scotland',\n",
    "            ' Yugoslavia'],'Europe', inplace = True)\n",
    "\n",
    "data['native-country'].replace([' South'],'Other', inplace = True)\n",
    "\n",
    "data['native-country'].unique()"
   ]
  },
  {
   "cell_type": "code",
   "execution_count": 35,
   "metadata": {},
   "outputs": [
    {
     "data": {
      "text/html": [
       "<div>\n",
       "<style scoped>\n",
       "    .dataframe tbody tr th:only-of-type {\n",
       "        vertical-align: middle;\n",
       "    }\n",
       "\n",
       "    .dataframe tbody tr th {\n",
       "        vertical-align: top;\n",
       "    }\n",
       "\n",
       "    .dataframe thead th {\n",
       "        text-align: right;\n",
       "    }\n",
       "</style>\n",
       "<table border=\"1\" class=\"dataframe\">\n",
       "  <thead>\n",
       "    <tr style=\"text-align: right;\">\n",
       "      <th></th>\n",
       "      <th>age</th>\n",
       "      <th>workclass</th>\n",
       "      <th>education</th>\n",
       "      <th>marital-status</th>\n",
       "      <th>income</th>\n",
       "    </tr>\n",
       "  </thead>\n",
       "  <tbody>\n",
       "    <tr>\n",
       "      <th>0</th>\n",
       "      <td>25</td>\n",
       "      <td>Private</td>\n",
       "      <td>6.7</td>\n",
       "      <td>Never-married</td>\n",
       "      <td>0</td>\n",
       "    </tr>\n",
       "    <tr>\n",
       "      <th>1</th>\n",
       "      <td>38</td>\n",
       "      <td>Private</td>\n",
       "      <td>9</td>\n",
       "      <td>Married-civ-spouse</td>\n",
       "      <td>0</td>\n",
       "    </tr>\n",
       "    <tr>\n",
       "      <th>2</th>\n",
       "      <td>28</td>\n",
       "      <td>Local-gov</td>\n",
       "      <td>6.7</td>\n",
       "      <td>Married-civ-spouse</td>\n",
       "      <td>1</td>\n",
       "    </tr>\n",
       "    <tr>\n",
       "      <th>3</th>\n",
       "      <td>44</td>\n",
       "      <td>Private</td>\n",
       "      <td>6.7</td>\n",
       "      <td>Married-civ-spouse</td>\n",
       "      <td>1</td>\n",
       "    </tr>\n",
       "    <tr>\n",
       "      <th>4</th>\n",
       "      <td>18</td>\n",
       "      <td>Self Employed</td>\n",
       "      <td>6.7</td>\n",
       "      <td>Never-married</td>\n",
       "      <td>0</td>\n",
       "    </tr>\n",
       "  </tbody>\n",
       "</table>\n",
       "</div>"
      ],
      "text/plain": [
       "   age      workclass education      marital-status  income\n",
       "0   25        Private       6.7       Never-married       0\n",
       "1   38        Private         9  Married-civ-spouse       0\n",
       "2   28      Local-gov       6.7  Married-civ-spouse       1\n",
       "3   44        Private       6.7  Married-civ-spouse       1\n",
       "4   18  Self Employed       6.7       Never-married       0"
      ]
     },
     "execution_count": 35,
     "metadata": {},
     "output_type": "execute_result"
    }
   ],
   "source": [
    "data2.head()"
   ]
  },
  {
   "cell_type": "code",
   "execution_count": 38,
   "metadata": {
    "execution": {
     "iopub.execute_input": "2022-07-08T03:04:08.910423Z",
     "iopub.status.busy": "2022-07-08T03:04:08.910112Z",
     "iopub.status.idle": "2022-07-08T03:04:08.932045Z",
     "shell.execute_reply": "2022-07-08T03:04:08.93126Z",
     "shell.execute_reply.started": "2022-07-08T03:04:08.910395Z"
    }
   },
   "outputs": [
    {
     "data": {
      "text/plain": [
       "array(['Self Employed', 'Govt Employee', 'Unemployed'], dtype=object)"
      ]
     },
     "execution_count": 38,
     "metadata": {},
     "output_type": "execute_result"
    }
   ],
   "source": [
    "data2['workclass'].replace(['Private','Self-emp-not-inc','Self-emp-inc'], 'Self Employed', inplace = True)\n",
    "data2['workclass'].replace(['State-gov', 'Local-gov', 'Federal-gov'], 'Govt Employee', inplace = True)\n",
    "data2['workclass'].replace(['Without-pay', 'Never-worked'], 'Unemployed', inplace = True)\n",
    "data2['workclass'].unique()\n"
   ]
  },
  {
   "cell_type": "code",
   "execution_count": 47,
   "metadata": {
    "execution": {
     "iopub.execute_input": "2022-07-08T03:04:08.933202Z",
     "iopub.status.busy": "2022-07-08T03:04:08.932916Z",
     "iopub.status.idle": "2022-07-08T03:04:08.968792Z",
     "shell.execute_reply": "2022-07-08T03:04:08.967802Z",
     "shell.execute_reply.started": "2022-07-08T03:04:08.933178Z"
    }
   },
   "outputs": [
    {
     "data": {
      "text/plain": [
       "array(['Single', 'Married', 'Widowed', 'Separated'], dtype=object)"
      ]
     },
     "execution_count": 47,
     "metadata": {},
     "output_type": "execute_result"
    }
   ],
   "source": [
    "data2['marital-status'].replace(['Never-married'], 'Single', inplace = True)\n",
    "data2['marital-status'].replace(['Married-civ-spouse','Married-spouse-absent','Married-AF-spouse'], 'Married', inplace = True)\n",
    "data2['marital-status'].replace(['Separated','Divorced'], 'Separated', inplace = True)\n",
    "data2['marital-status'].replace(['Widowed'], 'Widowed', inplace = True)\n",
    "data2['marital-status'].unique()\n"
   ]
  },
  {
   "cell_type": "code",
   "execution_count": 14,
   "metadata": {
    "execution": {
     "iopub.execute_input": "2022-07-08T03:04:08.970527Z",
     "iopub.status.busy": "2022-07-08T03:04:08.970234Z",
     "iopub.status.idle": "2022-07-08T03:04:08.996563Z",
     "shell.execute_reply": "2022-07-08T03:04:08.994971Z",
     "shell.execute_reply.started": "2022-07-08T03:04:08.970483Z"
    }
   },
   "outputs": [
    {
     "data": {
      "text/plain": [
       "array(['15-30', '31-45', '61-75', '46-60', '75+'], dtype=object)"
      ]
     },
     "execution_count": 14,
     "metadata": {},
     "output_type": "execute_result"
    }
   ],
   "source": [
    "data['AgeCat']=''\n",
    "data.loc[data['age']<= 30, 'AgeCat'] = '15-30'\n",
    "data.loc[(data['age']>30) & (data['age']<=45), 'AgeCat']= '31-45'\n",
    "data.loc[(data['age']>45) &(data['age']<=60), 'AgeCat']= '46-60'\n",
    "data.loc[(data['age']>60) & (data['age']<=75), 'AgeCat']= '61-75'\n",
    "data.loc[data['age']>75, 'AgeCat']= '75+'\n",
    "data['AgeCat'].unique()"
   ]
  },
  {
   "cell_type": "code",
   "execution_count": null,
   "metadata": {
    "execution": {
     "iopub.execute_input": "2022-07-08T03:04:08.998873Z",
     "iopub.status.busy": "2022-07-08T03:04:08.99842Z",
     "iopub.status.idle": "2022-07-08T03:04:09.01924Z",
     "shell.execute_reply": "2022-07-08T03:04:09.017993Z",
     "shell.execute_reply.started": "2022-07-08T03:04:08.998848Z"
    }
   },
   "outputs": [],
   "source": [
    "data['HoursPerWeekCat']=''\n",
    "data.loc[data['hours-per-week']<= 20, 'HoursPerWeekCat'] = '1-20'\n",
    "data.loc[(data['hours-per-week']>20)& (data['hours-per-week']<=40), 'HoursPerWeekCat']='21-40'\n",
    "data.loc[(data['hours-per-week']>40)&(data['hours-per-week']<=60), 'HoursPerWeekCat']='41-60'\n",
    "data.loc[(data['hours-per-week']>60)& (data['hours-per-week']<=80), 'HoursPerWeekCat']='61-80'\n",
    "data.loc[data['hours-per-week']>80,'HoursPerWeekCat']='80+'\n",
    "data['HoursPerWeekCat'].unique()"
   ]
  },
  {
   "cell_type": "code",
   "execution_count": null,
   "metadata": {
    "execution": {
     "iopub.execute_input": "2022-07-08T03:04:09.023196Z",
     "iopub.status.busy": "2022-07-08T03:04:09.021419Z",
     "iopub.status.idle": "2022-07-08T03:04:09.059726Z",
     "shell.execute_reply": "2022-07-08T03:04:09.058656Z",
     "shell.execute_reply.started": "2022-07-08T03:04:09.022933Z"
    }
   },
   "outputs": [],
   "source": [
    "data[['education', 'education-num']].groupby(['education'], as_index=False).mean().sort_values(by='education-num', ascending=False)"
   ]
  },
  {
   "cell_type": "code",
   "execution_count": 15,
   "metadata": {
    "execution": {
     "iopub.execute_input": "2022-07-08T03:04:09.062835Z",
     "iopub.status.busy": "2022-07-08T03:04:09.06253Z",
     "iopub.status.idle": "2022-07-08T03:04:09.090828Z",
     "shell.execute_reply": "2022-07-08T03:04:09.089264Z",
     "shell.execute_reply.started": "2022-07-08T03:04:09.062811Z"
    }
   },
   "outputs": [
    {
     "data": {
      "text/plain": [
       "array(['', '13', '14', '16'], dtype=object)"
      ]
     },
     "execution_count": 15,
     "metadata": {},
     "output_type": "execute_result"
    }
   ],
   "source": [
    "data['EduNumCat']=''\n",
    "data.loc[(data['education']== 'School'), 'EduNumCat'] = '6.7'\n",
    "data.loc[(data['education']== 'High Grade'), 'EduNumCat'] = '9'\n",
    "data.loc[(data['education']== 'College'), 'EduNumCat'] = '10.4'\n",
    "data.loc[(data['education']== 'Bachelors'), 'EduNumCat'] = '13'\n",
    "data.loc[(data['education']== 'Masters'), 'EduNumCat'] = '14'\n",
    "data.loc[(data['education']== 'Doctorate'), 'EduNumCat'] = '16'\n",
    "data['EduNumCat'].unique()"
   ]
  },
  {
   "cell_type": "code",
   "execution_count": 23,
   "metadata": {},
   "outputs": [
    {
     "data": {
      "text/plain": [
       "array(['6.7', '9', '13', '14', '16'], dtype=object)"
      ]
     },
     "execution_count": 23,
     "metadata": {},
     "output_type": "execute_result"
    }
   ],
   "source": [
    "data['education'].replace(['5th-6th', 'Assoc-voc', '9th', '12th', '1st-4th', \n",
    "                           'Preschool', 'Assoc-acdm', 'Some-college', '10th',\n",
    "       'Prof-school', '7th-8th', '11th'], '6.7', inplace = True)\n",
    "\n",
    "data['education'].replace(['HS-grad'], '9', inplace = True)\n",
    "data['education'].replace(['Bachelors'], '13', inplace = True)\n",
    "data['education'].replace(['Masters'], '14', inplace = True)\n",
    "data['education'].replace(['Doctorate'], '16', inplace = True)\n",
    "\n",
    "data['education'].unique()"
   ]
  },
  {
   "cell_type": "code",
   "execution_count": 27,
   "metadata": {
    "execution": {
     "iopub.execute_input": "2022-07-08T03:04:09.110029Z",
     "iopub.status.busy": "2022-07-08T03:04:09.109286Z",
     "iopub.status.idle": "2022-07-08T03:04:09.143649Z",
     "shell.execute_reply": "2022-07-08T03:04:09.142919Z",
     "shell.execute_reply.started": "2022-07-08T03:04:09.110004Z"
    }
   },
   "outputs": [],
   "source": [
    "keep_columns = ['age', 'workclass', 'education', 'marital-status', 'income']\n",
    "data2 = data[keep_columns]"
   ]
  },
  {
   "cell_type": "code",
   "execution_count": 62,
   "metadata": {
    "scrolled": false
   },
   "outputs": [
    {
     "data": {
      "text/html": [
       "<div>\n",
       "<style scoped>\n",
       "    .dataframe tbody tr th:only-of-type {\n",
       "        vertical-align: middle;\n",
       "    }\n",
       "\n",
       "    .dataframe tbody tr th {\n",
       "        vertical-align: top;\n",
       "    }\n",
       "\n",
       "    .dataframe thead th {\n",
       "        text-align: right;\n",
       "    }\n",
       "</style>\n",
       "<table border=\"1\" class=\"dataframe\">\n",
       "  <thead>\n",
       "    <tr style=\"text-align: right;\">\n",
       "      <th></th>\n",
       "      <th>age</th>\n",
       "      <th>workclass</th>\n",
       "      <th>education</th>\n",
       "      <th>marital-status</th>\n",
       "      <th>income</th>\n",
       "    </tr>\n",
       "  </thead>\n",
       "  <tbody>\n",
       "    <tr>\n",
       "      <th>0</th>\n",
       "      <td>25</td>\n",
       "      <td>Self Employed</td>\n",
       "      <td>Other</td>\n",
       "      <td>Single</td>\n",
       "      <td>0</td>\n",
       "    </tr>\n",
       "    <tr>\n",
       "      <th>1</th>\n",
       "      <td>38</td>\n",
       "      <td>Self Employed</td>\n",
       "      <td>High-School</td>\n",
       "      <td>Married</td>\n",
       "      <td>0</td>\n",
       "    </tr>\n",
       "    <tr>\n",
       "      <th>2</th>\n",
       "      <td>28</td>\n",
       "      <td>Govt Employee</td>\n",
       "      <td>Other</td>\n",
       "      <td>Married</td>\n",
       "      <td>1</td>\n",
       "    </tr>\n",
       "    <tr>\n",
       "      <th>3</th>\n",
       "      <td>44</td>\n",
       "      <td>Self Employed</td>\n",
       "      <td>Other</td>\n",
       "      <td>Married</td>\n",
       "      <td>1</td>\n",
       "    </tr>\n",
       "    <tr>\n",
       "      <th>4</th>\n",
       "      <td>18</td>\n",
       "      <td>Self Employed</td>\n",
       "      <td>Other</td>\n",
       "      <td>Single</td>\n",
       "      <td>0</td>\n",
       "    </tr>\n",
       "  </tbody>\n",
       "</table>\n",
       "</div>"
      ],
      "text/plain": [
       "   age      workclass    education marital-status  income\n",
       "0   25  Self Employed        Other         Single       0\n",
       "1   38  Self Employed  High-School        Married       0\n",
       "2   28  Govt Employee        Other        Married       1\n",
       "3   44  Self Employed        Other        Married       1\n",
       "4   18  Self Employed        Other         Single       0"
      ]
     },
     "execution_count": 62,
     "metadata": {},
     "output_type": "execute_result"
    }
   ],
   "source": [
    "data2.head()"
   ]
  },
  {
   "cell_type": "code",
   "execution_count": 59,
   "metadata": {},
   "outputs": [
    {
     "data": {
      "text/plain": [
       "array(['Other', '9', '13', '14', '16'], dtype=object)"
      ]
     },
     "execution_count": 59,
     "metadata": {},
     "output_type": "execute_result"
    }
   ],
   "source": [
    "data2['education'].unique()"
   ]
  },
  {
   "cell_type": "code",
   "execution_count": 61,
   "metadata": {},
   "outputs": [
    {
     "data": {
      "text/plain": [
       "array(['Other', 'High-School', 'Bachelors', 'Masters', 'Doctorate'],\n",
       "      dtype=object)"
      ]
     },
     "execution_count": 61,
     "metadata": {},
     "output_type": "execute_result"
    }
   ],
   "source": [
    "data2['education'].replace(['6.7'], 'Other', inplace = True)\n",
    "data2['education'].replace(['9'], 'High-School', inplace = True)\n",
    "data2['education'].replace(['13'], 'Bachelors', inplace = True)\n",
    "data2['education'].replace(['14'], 'Masters', inplace = True)\n",
    "data2['education'].replace(['16'], 'Doctorate', inplace = True)\n",
    "data2['education'].unique()"
   ]
  },
  {
   "cell_type": "code",
   "execution_count": 30,
   "metadata": {
    "execution": {
     "iopub.execute_input": "2022-07-08T03:04:09.144867Z",
     "iopub.status.busy": "2022-07-08T03:04:09.144643Z",
     "iopub.status.idle": "2022-07-08T03:04:09.164577Z",
     "shell.execute_reply": "2022-07-08T03:04:09.163566Z",
     "shell.execute_reply.started": "2022-07-08T03:04:09.144845Z"
    }
   },
   "outputs": [],
   "source": [
    "data2['income'].replace(['>50K'],1, inplace=True)\n",
    "data2['income'].replace(['<=50K'],0, inplace=True)"
   ]
  },
  {
   "cell_type": "code",
   "execution_count": 51,
   "metadata": {
    "scrolled": true
   },
   "outputs": [
    {
     "data": {
      "text/html": [
       "<div>\n",
       "<style scoped>\n",
       "    .dataframe tbody tr th:only-of-type {\n",
       "        vertical-align: middle;\n",
       "    }\n",
       "\n",
       "    .dataframe tbody tr th {\n",
       "        vertical-align: top;\n",
       "    }\n",
       "\n",
       "    .dataframe thead th {\n",
       "        text-align: right;\n",
       "    }\n",
       "</style>\n",
       "<table border=\"1\" class=\"dataframe\">\n",
       "  <thead>\n",
       "    <tr style=\"text-align: right;\">\n",
       "      <th></th>\n",
       "      <th>age</th>\n",
       "      <th>workclass</th>\n",
       "      <th>education</th>\n",
       "      <th>marital-status</th>\n",
       "      <th>income</th>\n",
       "    </tr>\n",
       "  </thead>\n",
       "  <tbody>\n",
       "    <tr>\n",
       "      <th>0</th>\n",
       "      <td>25</td>\n",
       "      <td>Self Employed</td>\n",
       "      <td>6.7</td>\n",
       "      <td>Single</td>\n",
       "      <td>0</td>\n",
       "    </tr>\n",
       "    <tr>\n",
       "      <th>1</th>\n",
       "      <td>38</td>\n",
       "      <td>Self Employed</td>\n",
       "      <td>9</td>\n",
       "      <td>Married</td>\n",
       "      <td>0</td>\n",
       "    </tr>\n",
       "    <tr>\n",
       "      <th>2</th>\n",
       "      <td>28</td>\n",
       "      <td>Govt Employee</td>\n",
       "      <td>6.7</td>\n",
       "      <td>Married</td>\n",
       "      <td>1</td>\n",
       "    </tr>\n",
       "    <tr>\n",
       "      <th>3</th>\n",
       "      <td>44</td>\n",
       "      <td>Self Employed</td>\n",
       "      <td>6.7</td>\n",
       "      <td>Married</td>\n",
       "      <td>1</td>\n",
       "    </tr>\n",
       "    <tr>\n",
       "      <th>4</th>\n",
       "      <td>18</td>\n",
       "      <td>Self Employed</td>\n",
       "      <td>6.7</td>\n",
       "      <td>Single</td>\n",
       "      <td>0</td>\n",
       "    </tr>\n",
       "  </tbody>\n",
       "</table>\n",
       "</div>"
      ],
      "text/plain": [
       "   age      workclass education marital-status  income\n",
       "0   25  Self Employed       6.7         Single       0\n",
       "1   38  Self Employed         9        Married       0\n",
       "2   28  Govt Employee       6.7        Married       1\n",
       "3   44  Self Employed       6.7        Married       1\n",
       "4   18  Self Employed       6.7         Single       0"
      ]
     },
     "execution_count": 51,
     "metadata": {},
     "output_type": "execute_result"
    }
   ],
   "source": [
    "data2.head()"
   ]
  },
  {
   "cell_type": "code",
   "execution_count": 48,
   "metadata": {},
   "outputs": [
    {
     "data": {
      "text/plain": [
       "array(['Single', 'Married', 'Widowed', 'Separated'], dtype=object)"
      ]
     },
     "execution_count": 48,
     "metadata": {},
     "output_type": "execute_result"
    }
   ],
   "source": [
    "data2['marital-status'].unique()"
   ]
  },
  {
   "cell_type": "code",
   "execution_count": 63,
   "metadata": {
    "execution": {
     "iopub.execute_input": "2022-07-08T03:04:10.690625Z",
     "iopub.status.busy": "2022-07-08T03:04:10.689869Z",
     "iopub.status.idle": "2022-07-08T03:04:10.744242Z",
     "shell.execute_reply": "2022-07-08T03:04:10.742956Z",
     "shell.execute_reply.started": "2022-07-08T03:04:10.690601Z"
    }
   },
   "outputs": [
    {
     "data": {
      "text/html": [
       "<div>\n",
       "<style scoped>\n",
       "    .dataframe tbody tr th:only-of-type {\n",
       "        vertical-align: middle;\n",
       "    }\n",
       "\n",
       "    .dataframe tbody tr th {\n",
       "        vertical-align: top;\n",
       "    }\n",
       "\n",
       "    .dataframe thead th {\n",
       "        text-align: right;\n",
       "    }\n",
       "</style>\n",
       "<table border=\"1\" class=\"dataframe\">\n",
       "  <thead>\n",
       "    <tr style=\"text-align: right;\">\n",
       "      <th></th>\n",
       "      <th>age</th>\n",
       "      <th>income</th>\n",
       "      <th>workclass_Govt Employee</th>\n",
       "      <th>workclass_Self Employed</th>\n",
       "      <th>workclass_Unemployed</th>\n",
       "      <th>education_Bachelors</th>\n",
       "      <th>education_Doctorate</th>\n",
       "      <th>education_High-School</th>\n",
       "      <th>education_Masters</th>\n",
       "      <th>education_Other</th>\n",
       "      <th>marital-status_Married</th>\n",
       "      <th>marital-status_Separated</th>\n",
       "      <th>marital-status_Single</th>\n",
       "      <th>marital-status_Widowed</th>\n",
       "    </tr>\n",
       "  </thead>\n",
       "  <tbody>\n",
       "    <tr>\n",
       "      <th>0</th>\n",
       "      <td>25</td>\n",
       "      <td>0</td>\n",
       "      <td>0</td>\n",
       "      <td>1</td>\n",
       "      <td>0</td>\n",
       "      <td>0</td>\n",
       "      <td>0</td>\n",
       "      <td>0</td>\n",
       "      <td>0</td>\n",
       "      <td>1</td>\n",
       "      <td>0</td>\n",
       "      <td>0</td>\n",
       "      <td>1</td>\n",
       "      <td>0</td>\n",
       "    </tr>\n",
       "    <tr>\n",
       "      <th>1</th>\n",
       "      <td>38</td>\n",
       "      <td>0</td>\n",
       "      <td>0</td>\n",
       "      <td>1</td>\n",
       "      <td>0</td>\n",
       "      <td>0</td>\n",
       "      <td>0</td>\n",
       "      <td>1</td>\n",
       "      <td>0</td>\n",
       "      <td>0</td>\n",
       "      <td>1</td>\n",
       "      <td>0</td>\n",
       "      <td>0</td>\n",
       "      <td>0</td>\n",
       "    </tr>\n",
       "    <tr>\n",
       "      <th>2</th>\n",
       "      <td>28</td>\n",
       "      <td>1</td>\n",
       "      <td>1</td>\n",
       "      <td>0</td>\n",
       "      <td>0</td>\n",
       "      <td>0</td>\n",
       "      <td>0</td>\n",
       "      <td>0</td>\n",
       "      <td>0</td>\n",
       "      <td>1</td>\n",
       "      <td>1</td>\n",
       "      <td>0</td>\n",
       "      <td>0</td>\n",
       "      <td>0</td>\n",
       "    </tr>\n",
       "    <tr>\n",
       "      <th>3</th>\n",
       "      <td>44</td>\n",
       "      <td>1</td>\n",
       "      <td>0</td>\n",
       "      <td>1</td>\n",
       "      <td>0</td>\n",
       "      <td>0</td>\n",
       "      <td>0</td>\n",
       "      <td>0</td>\n",
       "      <td>0</td>\n",
       "      <td>1</td>\n",
       "      <td>1</td>\n",
       "      <td>0</td>\n",
       "      <td>0</td>\n",
       "      <td>0</td>\n",
       "    </tr>\n",
       "    <tr>\n",
       "      <th>4</th>\n",
       "      <td>18</td>\n",
       "      <td>0</td>\n",
       "      <td>0</td>\n",
       "      <td>1</td>\n",
       "      <td>0</td>\n",
       "      <td>0</td>\n",
       "      <td>0</td>\n",
       "      <td>0</td>\n",
       "      <td>0</td>\n",
       "      <td>1</td>\n",
       "      <td>0</td>\n",
       "      <td>0</td>\n",
       "      <td>1</td>\n",
       "      <td>0</td>\n",
       "    </tr>\n",
       "  </tbody>\n",
       "</table>\n",
       "</div>"
      ],
      "text/plain": [
       "   age  income  workclass_Govt Employee  workclass_Self Employed  \\\n",
       "0   25       0                        0                        1   \n",
       "1   38       0                        0                        1   \n",
       "2   28       1                        1                        0   \n",
       "3   44       1                        0                        1   \n",
       "4   18       0                        0                        1   \n",
       "\n",
       "   workclass_Unemployed  education_Bachelors  education_Doctorate  \\\n",
       "0                     0                    0                    0   \n",
       "1                     0                    0                    0   \n",
       "2                     0                    0                    0   \n",
       "3                     0                    0                    0   \n",
       "4                     0                    0                    0   \n",
       "\n",
       "   education_High-School  education_Masters  education_Other  \\\n",
       "0                      0                  0                1   \n",
       "1                      1                  0                0   \n",
       "2                      0                  0                1   \n",
       "3                      0                  0                1   \n",
       "4                      0                  0                1   \n",
       "\n",
       "   marital-status_Married  marital-status_Separated  marital-status_Single  \\\n",
       "0                       0                         0                      1   \n",
       "1                       1                         0                      0   \n",
       "2                       1                         0                      0   \n",
       "3                       1                         0                      0   \n",
       "4                       0                         0                      1   \n",
       "\n",
       "   marital-status_Widowed  \n",
       "0                       0  \n",
       "1                       0  \n",
       "2                       0  \n",
       "3                       0  \n",
       "4                       0  "
      ]
     },
     "execution_count": 63,
     "metadata": {},
     "output_type": "execute_result"
    }
   ],
   "source": [
    "data_OneHot=pd.get_dummies(data2, columns=['workclass','education','marital-status'])\n",
    "data_OneHot.head()"
   ]
  },
  {
   "cell_type": "code",
   "execution_count": 64,
   "metadata": {},
   "outputs": [],
   "source": [
    "# Write this painful shit to memory so yu never have to do it agian\n",
    "data_OneHot.to_csv('file_name.csv', index=False)"
   ]
  },
  {
   "cell_type": "code",
   "execution_count": 65,
   "metadata": {},
   "outputs": [
    {
     "name": "stdout",
     "output_type": "stream",
     "text": [
      "adult.csv  file_name.csv  income_predictor.ipynb\r\n"
     ]
    }
   ],
   "source": [
    "!ls"
   ]
  },
  {
   "cell_type": "markdown",
   "metadata": {},
   "source": [
    "## Creating Independent and Dependent Variables"
   ]
  },
  {
   "cell_type": "code",
   "execution_count": 67,
   "metadata": {
    "execution": {
     "iopub.execute_input": "2022-07-08T03:04:10.745996Z",
     "iopub.status.busy": "2022-07-08T03:04:10.745725Z",
     "iopub.status.idle": "2022-07-08T03:04:10.757584Z",
     "shell.execute_reply": "2022-07-08T03:04:10.756652Z",
     "shell.execute_reply.started": "2022-07-08T03:04:10.745968Z"
    }
   },
   "outputs": [
    {
     "data": {
      "text/plain": [
       "0    0\n",
       "Name: income, dtype: int64"
      ]
     },
     "execution_count": 67,
     "metadata": {},
     "output_type": "execute_result"
    }
   ],
   "source": [
    "df=data_OneHot.copy()\n",
    "X= df.drop('income', axis=1)\n",
    "Y= df['income']\n",
    "Y.head(1)"
   ]
  },
  {
   "cell_type": "markdown",
   "metadata": {},
   "source": [
    "## Normailzation"
   ]
  },
  {
   "cell_type": "code",
   "execution_count": null,
   "metadata": {
    "execution": {
     "iopub.execute_input": "2022-07-08T03:04:10.760065Z",
     "iopub.status.busy": "2022-07-08T03:04:10.759529Z",
     "iopub.status.idle": "2022-07-08T03:04:10.825669Z",
     "shell.execute_reply": "2022-07-08T03:04:10.824074Z",
     "shell.execute_reply.started": "2022-07-08T03:04:10.760034Z"
    }
   },
   "outputs": [],
   "source": [
    "min_max_scaler = MinMaxScaler()\n",
    "x_scaled_minmax = min_max_scaler.fit_transform(X)\n",
    "X = pd.DataFrame(x_scaled_minmax, columns = X.columns)\n",
    "X.head()"
   ]
  },
  {
   "cell_type": "code",
   "execution_count": null,
   "metadata": {
    "execution": {
     "iopub.execute_input": "2022-07-08T03:04:10.827527Z",
     "iopub.status.busy": "2022-07-08T03:04:10.827136Z",
     "iopub.status.idle": "2022-07-08T03:04:11.001823Z",
     "shell.execute_reply": "2022-07-08T03:04:11.000895Z",
     "shell.execute_reply.started": "2022-07-08T03:04:10.827467Z"
    }
   },
   "outputs": [],
   "source": [
    "X.describe(include='all')"
   ]
  },
  {
   "cell_type": "code",
   "execution_count": 72,
   "metadata": {
    "execution": {
     "iopub.execute_input": "2022-07-08T03:04:11.012078Z",
     "iopub.status.busy": "2022-07-08T03:04:11.011626Z",
     "iopub.status.idle": "2022-07-08T03:04:11.035936Z",
     "shell.execute_reply": "2022-07-08T03:04:11.034709Z",
     "shell.execute_reply.started": "2022-07-08T03:04:11.012041Z"
    }
   },
   "outputs": [
    {
     "name": "stdout",
     "output_type": "stream",
     "text": [
      "(38096, 13) (38096,)\n",
      "(10746, 13) (10746,)\n"
     ]
    }
   ],
   "source": [
    "xtrain, xtest, ytrain, ytest=train_test_split(X,Y, test_size=0.22, random_state=100, shuffle=True)\n",
    "print(xtrain.shape, ytrain.shape)\n",
    "print(xtest.shape, ytest.shape)"
   ]
  },
  {
   "cell_type": "code",
   "execution_count": 73,
   "metadata": {
    "execution": {
     "iopub.execute_input": "2022-07-08T03:04:11.038054Z",
     "iopub.status.busy": "2022-07-08T03:04:11.037395Z",
     "iopub.status.idle": "2022-07-08T03:04:11.053342Z",
     "shell.execute_reply": "2022-07-08T03:04:11.050579Z",
     "shell.execute_reply.started": "2022-07-08T03:04:11.038017Z"
    },
    "scrolled": true
   },
   "outputs": [
    {
     "data": {
      "text/plain": [
       "0    8180\n",
       "1    2566\n",
       "Name: income, dtype: int64"
      ]
     },
     "execution_count": 73,
     "metadata": {},
     "output_type": "execute_result"
    }
   ],
   "source": [
    "ytest.value_counts()"
   ]
  },
  {
   "cell_type": "markdown",
   "metadata": {},
   "source": [
    "## Defining Decision Tree classifier"
   ]
  },
  {
   "cell_type": "code",
   "execution_count": null,
   "metadata": {
    "execution": {
     "iopub.execute_input": "2022-07-08T03:04:11.054689Z",
     "iopub.status.busy": "2022-07-08T03:04:11.054406Z",
     "iopub.status.idle": "2022-07-08T03:04:11.060825Z",
     "shell.execute_reply": "2022-07-08T03:04:11.059967Z",
     "shell.execute_reply.started": "2022-07-08T03:04:11.054666Z"
    }
   },
   "outputs": [],
   "source": [
    "clf_dt = DecisionTreeClassifier(max_depth=3,criterion='gini',random_state=100)"
   ]
  },
  {
   "cell_type": "code",
   "execution_count": null,
   "metadata": {
    "execution": {
     "iopub.execute_input": "2022-07-08T03:04:11.063662Z",
     "iopub.status.busy": "2022-07-08T03:04:11.063289Z",
     "iopub.status.idle": "2022-07-08T03:04:11.10405Z",
     "shell.execute_reply": "2022-07-08T03:04:11.10345Z",
     "shell.execute_reply.started": "2022-07-08T03:04:11.06364Z"
    }
   },
   "outputs": [],
   "source": [
    "clf_dt.fit(xtrain, ytrain)"
   ]
  },
  {
   "cell_type": "code",
   "execution_count": null,
   "metadata": {
    "execution": {
     "iopub.execute_input": "2022-07-08T03:04:11.105782Z",
     "iopub.status.busy": "2022-07-08T03:04:11.105074Z",
     "iopub.status.idle": "2022-07-08T03:04:11.116435Z",
     "shell.execute_reply": "2022-07-08T03:04:11.115438Z",
     "shell.execute_reply.started": "2022-07-08T03:04:11.10575Z"
    }
   },
   "outputs": [],
   "source": [
    "dt_pred = clf_dt.predict(xtest)\n",
    "dt_pred_prb=clf_dt.predict_proba(xtest)[:,1]"
   ]
  },
  {
   "cell_type": "markdown",
   "metadata": {},
   "source": [
    "### Task 5: Find accuracy for Decision Tree"
   ]
  },
  {
   "cell_type": "code",
   "execution_count": null,
   "metadata": {
    "execution": {
     "iopub.execute_input": "2022-07-08T03:04:11.118141Z",
     "iopub.status.busy": "2022-07-08T03:04:11.117456Z",
     "iopub.status.idle": "2022-07-08T03:04:11.125149Z",
     "shell.execute_reply": "2022-07-08T03:04:11.124199Z",
     "shell.execute_reply.started": "2022-07-08T03:04:11.118118Z"
    }
   },
   "outputs": [],
   "source": [
    "accuracy_dt = accuracy_score(ytest, dt_pred)\n",
    "print(\"Accuracy: {}\".format(accuracy_dt))"
   ]
  },
  {
   "cell_type": "markdown",
   "metadata": {},
   "source": [
    "## Task 9: Print Classification Report for Decision Tree"
   ]
  },
  {
   "cell_type": "code",
   "execution_count": null,
   "metadata": {
    "execution": {
     "iopub.execute_input": "2022-07-08T03:04:11.126709Z",
     "iopub.status.busy": "2022-07-08T03:04:11.12641Z",
     "iopub.status.idle": "2022-07-08T03:04:11.149299Z",
     "shell.execute_reply": "2022-07-08T03:04:11.148534Z",
     "shell.execute_reply.started": "2022-07-08T03:04:11.126682Z"
    }
   },
   "outputs": [],
   "source": [
    "print(classification_report(ytest,dt_pred))"
   ]
  },
  {
   "cell_type": "code",
   "execution_count": null,
   "metadata": {
    "execution": {
     "iopub.execute_input": "2022-07-08T03:04:11.150868Z",
     "iopub.status.busy": "2022-07-08T03:04:11.150437Z",
     "iopub.status.idle": "2022-07-08T03:04:11.172197Z",
     "shell.execute_reply": "2022-07-08T03:04:11.171374Z",
     "shell.execute_reply.started": "2022-07-08T03:04:11.15084Z"
    }
   },
   "outputs": [],
   "source": [
    "classification_dt=classification_report(ytest,dt_pred, output_dict=True)\n",
    "print(round(classification_dt['0']['precision'],2))\n",
    "print(round(classification_dt['1']['precision'],2))\n",
    "print(round(classification_dt['0']['recall'],2))\n",
    "print(round(classification_dt['1']['recall'],2))\n",
    "print(round(classification_dt['0']['f1-score'],2))\n",
    "print(round(classification_dt['1']['f1-score'],2))\n",
    "print(round(classification_dt['accuracy'],2))"
   ]
  },
  {
   "cell_type": "markdown",
   "metadata": {},
   "source": [
    "## Confusion Matrix"
   ]
  },
  {
   "cell_type": "code",
   "execution_count": null,
   "metadata": {
    "execution": {
     "iopub.execute_input": "2022-07-08T03:04:11.173723Z",
     "iopub.status.busy": "2022-07-08T03:04:11.17345Z",
     "iopub.status.idle": "2022-07-08T03:04:11.190023Z",
     "shell.execute_reply": "2022-07-08T03:04:11.188821Z",
     "shell.execute_reply.started": "2022-07-08T03:04:11.173696Z"
    }
   },
   "outputs": [],
   "source": [
    "confusion_matrix(ytest, dt_pred)\n",
    "confusion_matrix(ytest, dt_pred).ravel() \n",
    "tn, fp, fn, tp = confusion_matrix(ytest, dt_pred).ravel()\n",
    "conf_matrix=pd.DataFrame({\"pred_Survived\":[tp,fp],\"pred_Not Survived\":[fn,tn]},index=[\"Survived\",\"Not Survived\"])\n",
    "conf_matrix"
   ]
  },
  {
   "cell_type": "code",
   "execution_count": null,
   "metadata": {
    "execution": {
     "iopub.execute_input": "2022-07-08T03:04:11.192352Z",
     "iopub.status.busy": "2022-07-08T03:04:11.191242Z",
     "iopub.status.idle": "2022-07-08T03:04:11.375364Z",
     "shell.execute_reply": "2022-07-08T03:04:11.374544Z",
     "shell.execute_reply.started": "2022-07-08T03:04:11.192314Z"
    }
   },
   "outputs": [],
   "source": [
    "sns.set_context('poster')\n",
    "plt.figure(figsize=(8,6))\n",
    "sns.heatmap(conf_matrix, annot= True, fmt='g')\n",
    "plt.title('Confusion Matrix')\n",
    "plt.ylabel('Predicted')\n",
    "plt.xlabel('Actual')\n",
    "plt.show()\n"
   ]
  },
  {
   "cell_type": "markdown",
   "metadata": {},
   "source": [
    "## ROC Curve"
   ]
  },
  {
   "cell_type": "code",
   "execution_count": null,
   "metadata": {
    "execution": {
     "iopub.execute_input": "2022-07-08T03:04:11.376863Z",
     "iopub.status.busy": "2022-07-08T03:04:11.376572Z",
     "iopub.status.idle": "2022-07-08T03:04:11.384797Z",
     "shell.execute_reply": "2022-07-08T03:04:11.383542Z",
     "shell.execute_reply.started": "2022-07-08T03:04:11.376834Z"
    }
   },
   "outputs": [],
   "source": [
    "def plot_roc_curve(fpr, tpr, label=None):\n",
    "    plt.figure(figsize=(8,6))\n",
    "    plt.title('ROC Curve')\n",
    "    plt.plot(fpr, tpr, linewidth=2, label=label)\n",
    "    plt.plot([0, 1], [0, 1], 'k--')\n",
    "    plt.axis([-0.005, 1, 0, 1.005])\n",
    "    plt.xticks(np.arange(0,1, 0.05), rotation=90)\n",
    "    plt.xlabel(\"False Positive Rate\")\n",
    "    plt.ylabel(\"True Positive Rate\")\n",
    "    plt.legend(loc='best')"
   ]
  },
  {
   "cell_type": "code",
   "execution_count": null,
   "metadata": {
    "execution": {
     "iopub.execute_input": "2022-07-08T03:04:11.386801Z",
     "iopub.status.busy": "2022-07-08T03:04:11.386424Z",
     "iopub.status.idle": "2022-07-08T03:04:11.619225Z",
     "shell.execute_reply": "2022-07-08T03:04:11.618235Z",
     "shell.execute_reply.started": "2022-07-08T03:04:11.386765Z"
    }
   },
   "outputs": [],
   "source": [
    "sns.set_context('poster')\n",
    "auc_dt=roc_auc_score(ytest,dt_pred_prb)\n",
    "fpr,tpr,threshold=roc_curve(ytest,dt_pred_prb)\n",
    "plot_roc_curve(fpr,tpr,label='AUC = %0.3f'% auc_dt)"
   ]
  },
  {
   "cell_type": "markdown",
   "metadata": {},
   "source": [
    "## Features Importance"
   ]
  },
  {
   "cell_type": "code",
   "execution_count": null,
   "metadata": {
    "execution": {
     "iopub.execute_input": "2022-07-08T03:04:11.621572Z",
     "iopub.status.busy": "2022-07-08T03:04:11.621126Z",
     "iopub.status.idle": "2022-07-08T03:04:11.627846Z",
     "shell.execute_reply": "2022-07-08T03:04:11.626643Z",
     "shell.execute_reply.started": "2022-07-08T03:04:11.621547Z"
    }
   },
   "outputs": [],
   "source": [
    "clf_dt.feature_importances_"
   ]
  },
  {
   "cell_type": "code",
   "execution_count": null,
   "metadata": {
    "execution": {
     "iopub.execute_input": "2022-07-08T03:04:11.631743Z",
     "iopub.status.busy": "2022-07-08T03:04:11.631219Z",
     "iopub.status.idle": "2022-07-08T03:04:11.638313Z",
     "shell.execute_reply": "2022-07-08T03:04:11.63754Z",
     "shell.execute_reply.started": "2022-07-08T03:04:11.631704Z"
    }
   },
   "outputs": [],
   "source": [
    "features_tuple=list(zip(X.columns,clf_dt.feature_importances_))"
   ]
  },
  {
   "cell_type": "code",
   "execution_count": null,
   "metadata": {
    "execution": {
     "iopub.execute_input": "2022-07-08T03:04:11.640039Z",
     "iopub.status.busy": "2022-07-08T03:04:11.63957Z",
     "iopub.status.idle": "2022-07-08T03:04:11.655331Z",
     "shell.execute_reply": "2022-07-08T03:04:11.654603Z",
     "shell.execute_reply.started": "2022-07-08T03:04:11.640012Z"
    }
   },
   "outputs": [],
   "source": [
    "features_tuple"
   ]
  },
  {
   "cell_type": "code",
   "execution_count": null,
   "metadata": {
    "execution": {
     "iopub.execute_input": "2022-07-08T03:04:11.657591Z",
     "iopub.status.busy": "2022-07-08T03:04:11.656735Z",
     "iopub.status.idle": "2022-07-08T03:04:11.665467Z",
     "shell.execute_reply": "2022-07-08T03:04:11.664778Z",
     "shell.execute_reply.started": "2022-07-08T03:04:11.657543Z"
    }
   },
   "outputs": [],
   "source": [
    "feature_imp=pd.DataFrame(features_tuple,columns=[\"Feature Names\",\"Importance\"])"
   ]
  },
  {
   "cell_type": "code",
   "execution_count": null,
   "metadata": {
    "execution": {
     "iopub.execute_input": "2022-07-08T03:04:11.668132Z",
     "iopub.status.busy": "2022-07-08T03:04:11.66789Z",
     "iopub.status.idle": "2022-07-08T03:04:11.676161Z",
     "shell.execute_reply": "2022-07-08T03:04:11.675268Z",
     "shell.execute_reply.started": "2022-07-08T03:04:11.668109Z"
    }
   },
   "outputs": [],
   "source": [
    "feature_imp=feature_imp.sort_values(\"Importance\",ascending=False)"
   ]
  },
  {
   "cell_type": "code",
   "execution_count": null,
   "metadata": {
    "execution": {
     "iopub.execute_input": "2022-07-08T03:04:11.677738Z",
     "iopub.status.busy": "2022-07-08T03:04:11.677018Z",
     "iopub.status.idle": "2022-07-08T03:04:12.751581Z",
     "shell.execute_reply": "2022-07-08T03:04:12.751004Z",
     "shell.execute_reply.started": "2022-07-08T03:04:11.677714Z"
    },
    "scrolled": true
   },
   "outputs": [],
   "source": [
    "plt.figure(figsize=(15,6))\n",
    "sns.barplot(x=\"Feature Names\",y=\"Importance\", data=feature_imp, color='b')\n",
    "plt.xlabel(\"Datset Features\")\n",
    "plt.ylabel(\"Importance\")\n",
    "plt.xticks(rotation=90)\n",
    "plt.title(\"Decision Classifier - Features Importance\")\n",
    "plt.show()"
   ]
  },
  {
   "cell_type": "markdown",
   "metadata": {},
   "source": [
    "## Random Forest"
   ]
  },
  {
   "cell_type": "code",
   "execution_count": 75,
   "metadata": {
    "execution": {
     "iopub.execute_input": "2022-07-08T03:04:12.752753Z",
     "iopub.status.busy": "2022-07-08T03:04:12.75243Z",
     "iopub.status.idle": "2022-07-08T03:04:12.755793Z",
     "shell.execute_reply": "2022-07-08T03:04:12.755301Z",
     "shell.execute_reply.started": "2022-07-08T03:04:12.752732Z"
    }
   },
   "outputs": [],
   "source": [
    "clf_rf = RandomForestClassifier(random_state=100)"
   ]
  },
  {
   "cell_type": "code",
   "execution_count": 76,
   "metadata": {
    "execution": {
     "iopub.execute_input": "2022-07-08T03:04:12.756865Z",
     "iopub.status.busy": "2022-07-08T03:04:12.756562Z",
     "iopub.status.idle": "2022-07-08T03:04:14.986077Z",
     "shell.execute_reply": "2022-07-08T03:04:14.985246Z",
     "shell.execute_reply.started": "2022-07-08T03:04:12.756845Z"
    }
   },
   "outputs": [
    {
     "data": {
      "text/html": [
       "<style>#sk-container-id-1 {color: black;background-color: white;}#sk-container-id-1 pre{padding: 0;}#sk-container-id-1 div.sk-toggleable {background-color: white;}#sk-container-id-1 label.sk-toggleable__label {cursor: pointer;display: block;width: 100%;margin-bottom: 0;padding: 0.3em;box-sizing: border-box;text-align: center;}#sk-container-id-1 label.sk-toggleable__label-arrow:before {content: \"▸\";float: left;margin-right: 0.25em;color: #696969;}#sk-container-id-1 label.sk-toggleable__label-arrow:hover:before {color: black;}#sk-container-id-1 div.sk-estimator:hover label.sk-toggleable__label-arrow:before {color: black;}#sk-container-id-1 div.sk-toggleable__content {max-height: 0;max-width: 0;overflow: hidden;text-align: left;background-color: #f0f8ff;}#sk-container-id-1 div.sk-toggleable__content pre {margin: 0.2em;color: black;border-radius: 0.25em;background-color: #f0f8ff;}#sk-container-id-1 input.sk-toggleable__control:checked~div.sk-toggleable__content {max-height: 200px;max-width: 100%;overflow: auto;}#sk-container-id-1 input.sk-toggleable__control:checked~label.sk-toggleable__label-arrow:before {content: \"▾\";}#sk-container-id-1 div.sk-estimator input.sk-toggleable__control:checked~label.sk-toggleable__label {background-color: #d4ebff;}#sk-container-id-1 div.sk-label input.sk-toggleable__control:checked~label.sk-toggleable__label {background-color: #d4ebff;}#sk-container-id-1 input.sk-hidden--visually {border: 0;clip: rect(1px 1px 1px 1px);clip: rect(1px, 1px, 1px, 1px);height: 1px;margin: -1px;overflow: hidden;padding: 0;position: absolute;width: 1px;}#sk-container-id-1 div.sk-estimator {font-family: monospace;background-color: #f0f8ff;border: 1px dotted black;border-radius: 0.25em;box-sizing: border-box;margin-bottom: 0.5em;}#sk-container-id-1 div.sk-estimator:hover {background-color: #d4ebff;}#sk-container-id-1 div.sk-parallel-item::after {content: \"\";width: 100%;border-bottom: 1px solid gray;flex-grow: 1;}#sk-container-id-1 div.sk-label:hover label.sk-toggleable__label {background-color: #d4ebff;}#sk-container-id-1 div.sk-serial::before {content: \"\";position: absolute;border-left: 1px solid gray;box-sizing: border-box;top: 0;bottom: 0;left: 50%;z-index: 0;}#sk-container-id-1 div.sk-serial {display: flex;flex-direction: column;align-items: center;background-color: white;padding-right: 0.2em;padding-left: 0.2em;position: relative;}#sk-container-id-1 div.sk-item {position: relative;z-index: 1;}#sk-container-id-1 div.sk-parallel {display: flex;align-items: stretch;justify-content: center;background-color: white;position: relative;}#sk-container-id-1 div.sk-item::before, #sk-container-id-1 div.sk-parallel-item::before {content: \"\";position: absolute;border-left: 1px solid gray;box-sizing: border-box;top: 0;bottom: 0;left: 50%;z-index: -1;}#sk-container-id-1 div.sk-parallel-item {display: flex;flex-direction: column;z-index: 1;position: relative;background-color: white;}#sk-container-id-1 div.sk-parallel-item:first-child::after {align-self: flex-end;width: 50%;}#sk-container-id-1 div.sk-parallel-item:last-child::after {align-self: flex-start;width: 50%;}#sk-container-id-1 div.sk-parallel-item:only-child::after {width: 0;}#sk-container-id-1 div.sk-dashed-wrapped {border: 1px dashed gray;margin: 0 0.4em 0.5em 0.4em;box-sizing: border-box;padding-bottom: 0.4em;background-color: white;}#sk-container-id-1 div.sk-label label {font-family: monospace;font-weight: bold;display: inline-block;line-height: 1.2em;}#sk-container-id-1 div.sk-label-container {text-align: center;}#sk-container-id-1 div.sk-container {/* jupyter's `normalize.less` sets `[hidden] { display: none; }` but bootstrap.min.css set `[hidden] { display: none !important; }` so we also need the `!important` here to be able to override the default hidden behavior on the sphinx rendered scikit-learn.org. See: https://github.com/scikit-learn/scikit-learn/issues/21755 */display: inline-block !important;position: relative;}#sk-container-id-1 div.sk-text-repr-fallback {display: none;}</style><div id=\"sk-container-id-1\" class=\"sk-top-container\"><div class=\"sk-text-repr-fallback\"><pre>RandomForestClassifier(random_state=100)</pre><b>In a Jupyter environment, please rerun this cell to show the HTML representation or trust the notebook. <br />On GitHub, the HTML representation is unable to render, please try loading this page with nbviewer.org.</b></div><div class=\"sk-container\" hidden><div class=\"sk-item\"><div class=\"sk-estimator sk-toggleable\"><input class=\"sk-toggleable__control sk-hidden--visually\" id=\"sk-estimator-id-1\" type=\"checkbox\" checked><label for=\"sk-estimator-id-1\" class=\"sk-toggleable__label sk-toggleable__label-arrow\">RandomForestClassifier</label><div class=\"sk-toggleable__content\"><pre>RandomForestClassifier(random_state=100)</pre></div></div></div></div></div>"
      ],
      "text/plain": [
       "RandomForestClassifier(random_state=100)"
      ]
     },
     "execution_count": 76,
     "metadata": {},
     "output_type": "execute_result"
    }
   ],
   "source": [
    "clf_rf.fit(xtrain, ytrain)"
   ]
  },
  {
   "cell_type": "code",
   "execution_count": 77,
   "metadata": {
    "execution": {
     "iopub.execute_input": "2022-07-08T03:04:14.988373Z",
     "iopub.status.busy": "2022-07-08T03:04:14.987584Z",
     "iopub.status.idle": "2022-07-08T03:04:15.439753Z",
     "shell.execute_reply": "2022-07-08T03:04:15.438858Z",
     "shell.execute_reply.started": "2022-07-08T03:04:14.98834Z"
    }
   },
   "outputs": [],
   "source": [
    "rf_pred = clf_rf.predict(xtest)\n",
    "rf_pred_prb=clf_rf.predict_proba(xtest)[:,1]"
   ]
  },
  {
   "cell_type": "markdown",
   "metadata": {},
   "source": [
    "## Task 14: Print Classification Report for Random Forest"
   ]
  },
  {
   "cell_type": "code",
   "execution_count": 78,
   "metadata": {
    "execution": {
     "iopub.execute_input": "2022-07-08T03:04:15.441378Z",
     "iopub.status.busy": "2022-07-08T03:04:15.440938Z",
     "iopub.status.idle": "2022-07-08T03:04:15.452154Z",
     "shell.execute_reply": "2022-07-08T03:04:15.451177Z",
     "shell.execute_reply.started": "2022-07-08T03:04:15.441341Z"
    }
   },
   "outputs": [
    {
     "data": {
      "text/plain": [
       "0.9367970660146699"
      ]
     },
     "execution_count": 78,
     "metadata": {},
     "output_type": "execute_result"
    }
   ],
   "source": [
    "tn, fp, fn, tp = confusion_matrix(ytest, rf_pred).ravel()\n",
    "rf_specificity= tn/(tn+fp)\n",
    "rf_specificity"
   ]
  },
  {
   "cell_type": "code",
   "execution_count": 79,
   "metadata": {
    "execution": {
     "iopub.execute_input": "2022-07-08T03:04:15.453995Z",
     "iopub.status.busy": "2022-07-08T03:04:15.453689Z",
     "iopub.status.idle": "2022-07-08T03:04:15.490098Z",
     "shell.execute_reply": "2022-07-08T03:04:15.489518Z",
     "shell.execute_reply.started": "2022-07-08T03:04:15.453966Z"
    }
   },
   "outputs": [
    {
     "name": "stdout",
     "output_type": "stream",
     "text": [
      "              precision    recall  f1-score   support\n",
      "\n",
      "           0       0.83      0.94      0.88      8180\n",
      "           1       0.66      0.39      0.49      2566\n",
      "\n",
      "    accuracy                           0.81     10746\n",
      "   macro avg       0.75      0.66      0.69     10746\n",
      "weighted avg       0.79      0.81      0.79     10746\n",
      "\n"
     ]
    }
   ],
   "source": [
    "classification_rf=classification_report(ytest,rf_pred, output_dict=True)\n",
    "print(classification_report(ytest, rf_pred))"
   ]
  },
  {
   "cell_type": "markdown",
   "metadata": {},
   "source": [
    "## ROC Curve for Random Forest"
   ]
  },
  {
   "cell_type": "code",
   "execution_count": 80,
   "metadata": {
    "execution": {
     "iopub.execute_input": "2022-07-08T03:04:15.491535Z",
     "iopub.status.busy": "2022-07-08T03:04:15.490786Z",
     "iopub.status.idle": "2022-07-08T03:04:15.497875Z",
     "shell.execute_reply": "2022-07-08T03:04:15.49703Z",
     "shell.execute_reply.started": "2022-07-08T03:04:15.49149Z"
    }
   },
   "outputs": [],
   "source": [
    "def plot_roc_curve(fpr, tpr, label=None):\n",
    "    plt.figure(figsize=(8,6))\n",
    "    plt.title('ROC Curve')\n",
    "    plt.plot(fpr, tpr, linewidth=2, label=label)\n",
    "    plt.plot([0, 1], [0, 1], 'k--')\n",
    "    plt.axis([-0.005, 1, 0, 1.005])\n",
    "    plt.xticks(np.arange(0,1, 0.05), rotation=90)\n",
    "    plt.xlabel(\"False Positive Rate\")\n",
    "    plt.ylabel(\"True Positive Rate\")\n",
    "    plt.legend(loc='best')"
   ]
  },
  {
   "cell_type": "code",
   "execution_count": 81,
   "metadata": {
    "execution": {
     "iopub.execute_input": "2022-07-08T03:04:15.500046Z",
     "iopub.status.busy": "2022-07-08T03:04:15.499723Z",
     "iopub.status.idle": "2022-07-08T03:04:15.703964Z",
     "shell.execute_reply": "2022-07-08T03:04:15.703361Z",
     "shell.execute_reply.started": "2022-07-08T03:04:15.500015Z"
    }
   },
   "outputs": [
    {
     "data": {
      "image/png": "[encoded data removed]",
      "text/plain": [
       "<Figure size 576x432 with 1 Axes>"
      ]
     },
     "metadata": {
      "needs_background": "light"
     },
     "output_type": "display_data"
    }
   ],
   "source": [
    "auc_rf=roc_auc_score(ytest,rf_pred_prb)\n",
    "fpr,tpr,threshold=roc_curve(ytest,rf_pred_prb)\n",
    "plot_roc_curve(fpr,tpr,label='AUC = %0.3f'% auc_rf)"
   ]
  },
  {
   "cell_type": "markdown",
   "metadata": {},
   "source": [
    "## Features Importance"
   ]
  },
  {
   "cell_type": "code",
   "execution_count": null,
   "metadata": {
    "execution": {
     "iopub.execute_input": "2022-07-08T03:04:15.705695Z",
     "iopub.status.busy": "2022-07-08T03:04:15.704887Z",
     "iopub.status.idle": "2022-07-08T03:04:15.725138Z",
     "shell.execute_reply": "2022-07-08T03:04:15.724312Z",
     "shell.execute_reply.started": "2022-07-08T03:04:15.70566Z"
    }
   },
   "outputs": [],
   "source": [
    "features_tuple=list(zip(X.columns,clf_rf.feature_importances_))"
   ]
  },
  {
   "cell_type": "code",
   "execution_count": null,
   "metadata": {
    "execution": {
     "iopub.execute_input": "2022-07-08T03:04:15.726594Z",
     "iopub.status.busy": "2022-07-08T03:04:15.726296Z",
     "iopub.status.idle": "2022-07-08T03:04:15.733047Z",
     "shell.execute_reply": "2022-07-08T03:04:15.731799Z",
     "shell.execute_reply.started": "2022-07-08T03:04:15.726566Z"
    }
   },
   "outputs": [],
   "source": [
    "feature_imp=pd.DataFrame(features_tuple,columns=[\"Feature Names\",\"Importance\"])"
   ]
  },
  {
   "cell_type": "code",
   "execution_count": null,
   "metadata": {
    "execution": {
     "iopub.execute_input": "2022-07-08T03:04:15.735282Z",
     "iopub.status.busy": "2022-07-08T03:04:15.734596Z",
     "iopub.status.idle": "2022-07-08T03:04:15.745452Z",
     "shell.execute_reply": "2022-07-08T03:04:15.744045Z",
     "shell.execute_reply.started": "2022-07-08T03:04:15.735242Z"
    }
   },
   "outputs": [],
   "source": [
    "feature_imp=feature_imp.sort_values(\"Importance\",ascending=False)"
   ]
  },
  {
   "cell_type": "code",
   "execution_count": null,
   "metadata": {
    "execution": {
     "iopub.execute_input": "2022-07-08T03:04:15.747205Z",
     "iopub.status.busy": "2022-07-08T03:04:15.746786Z",
     "iopub.status.idle": "2022-07-08T03:04:16.8013Z",
     "shell.execute_reply": "2022-07-08T03:04:16.800524Z",
     "shell.execute_reply.started": "2022-07-08T03:04:15.747182Z"
    }
   },
   "outputs": [],
   "source": [
    "plt.figure(figsize=(12,6))\n",
    "sns.barplot(x=\"Feature Names\",y=\"Importance\", data=feature_imp, color='b')\n",
    "plt.xlabel(\"Dataset Features\")\n",
    "plt.ylabel(\"Importance\")\n",
    "plt.xticks(rotation=90)\n",
    "plt.title(\"Random Forest Classifier - Features Importance\")"
   ]
  },
  {
   "cell_type": "markdown",
   "metadata": {},
   "source": [
    "## Hyperparameter Tuning using GridSearchCV"
   ]
  },
  {
   "cell_type": "code",
   "execution_count": 82,
   "metadata": {
    "collapsed": true,
    "execution": {
     "iopub.execute_input": "2022-07-08T03:04:16.803279Z",
     "iopub.status.busy": "2022-07-08T03:04:16.802465Z",
     "iopub.status.idle": "2022-07-08T03:07:56.149488Z",
     "shell.execute_reply": "2022-07-08T03:07:56.148868Z",
     "shell.execute_reply.started": "2022-07-08T03:04:16.803249Z"
    }
   },
   "outputs": [
    {
     "ename": "KeyboardInterrupt",
     "evalue": "",
     "output_type": "error",
     "traceback": [
      "\u001b[0;31m---------------------------------------------------------------------------\u001b[0m",
      "\u001b[0;31mKeyboardInterrupt\u001b[0m                         Traceback (most recent call last)",
      "\u001b[0;32m/tmp/ipykernel_13389/3277816172.py\u001b[0m in \u001b[0;36m<module>\u001b[0;34m\u001b[0m\n\u001b[1;32m      8\u001b[0m \u001b[0;34m\u001b[0m\u001b[0m\n\u001b[1;32m      9\u001b[0m \u001b[0;31m# Fit it to the data\u001b[0m\u001b[0;34m\u001b[0m\u001b[0;34m\u001b[0m\u001b[0m\n\u001b[0;32m---> 10\u001b[0;31m \u001b[0mRF_cv1\u001b[0m\u001b[0;34m.\u001b[0m\u001b[0mfit\u001b[0m\u001b[0;34m(\u001b[0m\u001b[0mxtrain\u001b[0m\u001b[0;34m,\u001b[0m\u001b[0mytrain\u001b[0m\u001b[0;34m)\u001b[0m\u001b[0;34m\u001b[0m\u001b[0;34m\u001b[0m\u001b[0m\n\u001b[0m\u001b[1;32m     11\u001b[0m \u001b[0;34m\u001b[0m\u001b[0m\n\u001b[1;32m     12\u001b[0m \u001b[0;31m#RF_cv1.cv_results_,\u001b[0m\u001b[0;34m\u001b[0m\u001b[0;34m\u001b[0m\u001b[0m\n",
      "\u001b[0;32m~/anaconda3/lib/python3.9/site-packages/sklearn/model_selection/_search.py\u001b[0m in \u001b[0;36mfit\u001b[0;34m(self, X, y, groups, **fit_params)\u001b[0m\n\u001b[1;32m    873\u001b[0m                 \u001b[0;32mreturn\u001b[0m \u001b[0mresults\u001b[0m\u001b[0;34m\u001b[0m\u001b[0;34m\u001b[0m\u001b[0m\n\u001b[1;32m    874\u001b[0m \u001b[0;34m\u001b[0m\u001b[0m\n\u001b[0;32m--> 875\u001b[0;31m             \u001b[0mself\u001b[0m\u001b[0;34m.\u001b[0m\u001b[0m_run_search\u001b[0m\u001b[0;34m(\u001b[0m\u001b[0mevaluate_candidates\u001b[0m\u001b[0;34m)\u001b[0m\u001b[0;34m\u001b[0m\u001b[0;34m\u001b[0m\u001b[0m\n\u001b[0m\u001b[1;32m    876\u001b[0m \u001b[0;34m\u001b[0m\u001b[0m\n\u001b[1;32m    877\u001b[0m             \u001b[0;31m# multimetric is determined here because in the case of a callable\u001b[0m\u001b[0;34m\u001b[0m\u001b[0;34m\u001b[0m\u001b[0m\n",
      "\u001b[0;32m~/anaconda3/lib/python3.9/site-packages/sklearn/model_selection/_search.py\u001b[0m in \u001b[0;36m_run_search\u001b[0;34m(self, evaluate_candidates)\u001b[0m\n\u001b[1;32m   1373\u001b[0m     \u001b[0;32mdef\u001b[0m \u001b[0m_run_search\u001b[0m\u001b[0;34m(\u001b[0m\u001b[0mself\u001b[0m\u001b[0;34m,\u001b[0m \u001b[0mevaluate_candidates\u001b[0m\u001b[0;34m)\u001b[0m\u001b[0;34m:\u001b[0m\u001b[0;34m\u001b[0m\u001b[0;34m\u001b[0m\u001b[0m\n\u001b[1;32m   1374\u001b[0m         \u001b[0;34m\"\"\"Search all candidates in param_grid\"\"\"\u001b[0m\u001b[0;34m\u001b[0m\u001b[0;34m\u001b[0m\u001b[0m\n\u001b[0;32m-> 1375\u001b[0;31m         \u001b[0mevaluate_candidates\u001b[0m\u001b[0;34m(\u001b[0m\u001b[0mParameterGrid\u001b[0m\u001b[0;34m(\u001b[0m\u001b[0mself\u001b[0m\u001b[0;34m.\u001b[0m\u001b[0mparam_grid\u001b[0m\u001b[0;34m)\u001b[0m\u001b[0;34m)\u001b[0m\u001b[0;34m\u001b[0m\u001b[0;34m\u001b[0m\u001b[0m\n\u001b[0m\u001b[1;32m   1376\u001b[0m \u001b[0;34m\u001b[0m\u001b[0m\n\u001b[1;32m   1377\u001b[0m \u001b[0;34m\u001b[0m\u001b[0m\n",
      "\u001b[0;32m~/anaconda3/lib/python3.9/site-packages/sklearn/model_selection/_search.py\u001b[0m in \u001b[0;36mevaluate_candidates\u001b[0;34m(candidate_params, cv, more_results)\u001b[0m\n\u001b[1;32m    820\u001b[0m                     )\n\u001b[1;32m    821\u001b[0m \u001b[0;34m\u001b[0m\u001b[0m\n\u001b[0;32m--> 822\u001b[0;31m                 out = parallel(\n\u001b[0m\u001b[1;32m    823\u001b[0m                     delayed(_fit_and_score)(\n\u001b[1;32m    824\u001b[0m                         \u001b[0mclone\u001b[0m\u001b[0;34m(\u001b[0m\u001b[0mbase_estimator\u001b[0m\u001b[0;34m)\u001b[0m\u001b[0;34m,\u001b[0m\u001b[0;34m\u001b[0m\u001b[0;34m\u001b[0m\u001b[0m\n",
      "\u001b[0;32m~/anaconda3/lib/python3.9/site-packages/joblib/parallel.py\u001b[0m in \u001b[0;36m__call__\u001b[0;34m(self, iterable)\u001b[0m\n\u001b[1;32m   1054\u001b[0m \u001b[0;34m\u001b[0m\u001b[0m\n\u001b[1;32m   1055\u001b[0m             \u001b[0;32mwith\u001b[0m \u001b[0mself\u001b[0m\u001b[0;34m.\u001b[0m\u001b[0m_backend\u001b[0m\u001b[0;34m.\u001b[0m\u001b[0mretrieval_context\u001b[0m\u001b[0;34m(\u001b[0m\u001b[0;34m)\u001b[0m\u001b[0;34m:\u001b[0m\u001b[0;34m\u001b[0m\u001b[0;34m\u001b[0m\u001b[0m\n\u001b[0;32m-> 1056\u001b[0;31m                 \u001b[0mself\u001b[0m\u001b[0;34m.\u001b[0m\u001b[0mretrieve\u001b[0m\u001b[0;34m(\u001b[0m\u001b[0;34m)\u001b[0m\u001b[0;34m\u001b[0m\u001b[0;34m\u001b[0m\u001b[0m\n\u001b[0m\u001b[1;32m   1057\u001b[0m             \u001b[0;31m# Make sure that we get a last message telling us we are done\u001b[0m\u001b[0;34m\u001b[0m\u001b[0;34m\u001b[0m\u001b[0m\n\u001b[1;32m   1058\u001b[0m             \u001b[0melapsed_time\u001b[0m \u001b[0;34m=\u001b[0m \u001b[0mtime\u001b[0m\u001b[0;34m.\u001b[0m\u001b[0mtime\u001b[0m\u001b[0;34m(\u001b[0m\u001b[0;34m)\u001b[0m \u001b[0;34m-\u001b[0m \u001b[0mself\u001b[0m\u001b[0;34m.\u001b[0m\u001b[0m_start_time\u001b[0m\u001b[0;34m\u001b[0m\u001b[0;34m\u001b[0m\u001b[0m\n",
      "\u001b[0;32m~/anaconda3/lib/python3.9/site-packages/joblib/parallel.py\u001b[0m in \u001b[0;36mretrieve\u001b[0;34m(self)\u001b[0m\n\u001b[1;32m    933\u001b[0m             \u001b[0;32mtry\u001b[0m\u001b[0;34m:\u001b[0m\u001b[0;34m\u001b[0m\u001b[0;34m\u001b[0m\u001b[0m\n\u001b[1;32m    934\u001b[0m                 \u001b[0;32mif\u001b[0m \u001b[0mgetattr\u001b[0m\u001b[0;34m(\u001b[0m\u001b[0mself\u001b[0m\u001b[0;34m.\u001b[0m\u001b[0m_backend\u001b[0m\u001b[0;34m,\u001b[0m \u001b[0;34m'supports_timeout'\u001b[0m\u001b[0;34m,\u001b[0m \u001b[0;32mFalse\u001b[0m\u001b[0;34m)\u001b[0m\u001b[0;34m:\u001b[0m\u001b[0;34m\u001b[0m\u001b[0;34m\u001b[0m\u001b[0m\n\u001b[0;32m--> 935\u001b[0;31m                     \u001b[0mself\u001b[0m\u001b[0;34m.\u001b[0m\u001b[0m_output\u001b[0m\u001b[0;34m.\u001b[0m\u001b[0mextend\u001b[0m\u001b[0;34m(\u001b[0m\u001b[0mjob\u001b[0m\u001b[0;34m.\u001b[0m\u001b[0mget\u001b[0m\u001b[0;34m(\u001b[0m\u001b[0mtimeout\u001b[0m\u001b[0;34m=\u001b[0m\u001b[0mself\u001b[0m\u001b[0;34m.\u001b[0m\u001b[0mtimeout\u001b[0m\u001b[0;34m)\u001b[0m\u001b[0;34m)\u001b[0m\u001b[0;34m\u001b[0m\u001b[0;34m\u001b[0m\u001b[0m\n\u001b[0m\u001b[1;32m    936\u001b[0m                 \u001b[0;32melse\u001b[0m\u001b[0;34m:\u001b[0m\u001b[0;34m\u001b[0m\u001b[0;34m\u001b[0m\u001b[0m\n\u001b[1;32m    937\u001b[0m                     \u001b[0mself\u001b[0m\u001b[0;34m.\u001b[0m\u001b[0m_output\u001b[0m\u001b[0;34m.\u001b[0m\u001b[0mextend\u001b[0m\u001b[0;34m(\u001b[0m\u001b[0mjob\u001b[0m\u001b[0;34m.\u001b[0m\u001b[0mget\u001b[0m\u001b[0;34m(\u001b[0m\u001b[0;34m)\u001b[0m\u001b[0;34m)\u001b[0m\u001b[0;34m\u001b[0m\u001b[0;34m\u001b[0m\u001b[0m\n",
      "\u001b[0;32m~/anaconda3/lib/python3.9/site-packages/joblib/_parallel_backends.py\u001b[0m in \u001b[0;36mwrap_future_result\u001b[0;34m(future, timeout)\u001b[0m\n\u001b[1;32m    540\u001b[0m         AsyncResults.get from multiprocessing.\"\"\"\n\u001b[1;32m    541\u001b[0m         \u001b[0;32mtry\u001b[0m\u001b[0;34m:\u001b[0m\u001b[0;34m\u001b[0m\u001b[0;34m\u001b[0m\u001b[0m\n\u001b[0;32m--> 542\u001b[0;31m             \u001b[0;32mreturn\u001b[0m \u001b[0mfuture\u001b[0m\u001b[0;34m.\u001b[0m\u001b[0mresult\u001b[0m\u001b[0;34m(\u001b[0m\u001b[0mtimeout\u001b[0m\u001b[0;34m=\u001b[0m\u001b[0mtimeout\u001b[0m\u001b[0;34m)\u001b[0m\u001b[0;34m\u001b[0m\u001b[0;34m\u001b[0m\u001b[0m\n\u001b[0m\u001b[1;32m    543\u001b[0m         \u001b[0;32mexcept\u001b[0m \u001b[0mCfTimeoutError\u001b[0m \u001b[0;32mas\u001b[0m \u001b[0me\u001b[0m\u001b[0;34m:\u001b[0m\u001b[0;34m\u001b[0m\u001b[0;34m\u001b[0m\u001b[0m\n\u001b[1;32m    544\u001b[0m             \u001b[0;32mraise\u001b[0m \u001b[0mTimeoutError\u001b[0m \u001b[0;32mfrom\u001b[0m \u001b[0me\u001b[0m\u001b[0;34m\u001b[0m\u001b[0;34m\u001b[0m\u001b[0m\n",
      "\u001b[0;32m~/anaconda3/lib/python3.9/concurrent/futures/_base.py\u001b[0m in \u001b[0;36mresult\u001b[0;34m(self, timeout)\u001b[0m\n\u001b[1;32m    438\u001b[0m                     \u001b[0;32mreturn\u001b[0m \u001b[0mself\u001b[0m\u001b[0;34m.\u001b[0m\u001b[0m__get_result\u001b[0m\u001b[0;34m(\u001b[0m\u001b[0;34m)\u001b[0m\u001b[0;34m\u001b[0m\u001b[0;34m\u001b[0m\u001b[0m\n\u001b[1;32m    439\u001b[0m \u001b[0;34m\u001b[0m\u001b[0m\n\u001b[0;32m--> 440\u001b[0;31m                 \u001b[0mself\u001b[0m\u001b[0;34m.\u001b[0m\u001b[0m_condition\u001b[0m\u001b[0;34m.\u001b[0m\u001b[0mwait\u001b[0m\u001b[0;34m(\u001b[0m\u001b[0mtimeout\u001b[0m\u001b[0;34m)\u001b[0m\u001b[0;34m\u001b[0m\u001b[0;34m\u001b[0m\u001b[0m\n\u001b[0m\u001b[1;32m    441\u001b[0m \u001b[0;34m\u001b[0m\u001b[0m\n\u001b[1;32m    442\u001b[0m                 \u001b[0;32mif\u001b[0m \u001b[0mself\u001b[0m\u001b[0;34m.\u001b[0m\u001b[0m_state\u001b[0m \u001b[0;32min\u001b[0m \u001b[0;34m[\u001b[0m\u001b[0mCANCELLED\u001b[0m\u001b[0;34m,\u001b[0m \u001b[0mCANCELLED_AND_NOTIFIED\u001b[0m\u001b[0;34m]\u001b[0m\u001b[0;34m:\u001b[0m\u001b[0;34m\u001b[0m\u001b[0;34m\u001b[0m\u001b[0m\n",
      "\u001b[0;32m~/anaconda3/lib/python3.9/threading.py\u001b[0m in \u001b[0;36mwait\u001b[0;34m(self, timeout)\u001b[0m\n\u001b[1;32m    310\u001b[0m         \u001b[0;32mtry\u001b[0m\u001b[0;34m:\u001b[0m    \u001b[0;31m# restore state no matter what (e.g., KeyboardInterrupt)\u001b[0m\u001b[0;34m\u001b[0m\u001b[0;34m\u001b[0m\u001b[0m\n\u001b[1;32m    311\u001b[0m             \u001b[0;32mif\u001b[0m \u001b[0mtimeout\u001b[0m \u001b[0;32mis\u001b[0m \u001b[0;32mNone\u001b[0m\u001b[0;34m:\u001b[0m\u001b[0;34m\u001b[0m\u001b[0;34m\u001b[0m\u001b[0m\n\u001b[0;32m--> 312\u001b[0;31m                 \u001b[0mwaiter\u001b[0m\u001b[0;34m.\u001b[0m\u001b[0macquire\u001b[0m\u001b[0;34m(\u001b[0m\u001b[0;34m)\u001b[0m\u001b[0;34m\u001b[0m\u001b[0;34m\u001b[0m\u001b[0m\n\u001b[0m\u001b[1;32m    313\u001b[0m                 \u001b[0mgotit\u001b[0m \u001b[0;34m=\u001b[0m \u001b[0;32mTrue\u001b[0m\u001b[0;34m\u001b[0m\u001b[0;34m\u001b[0m\u001b[0m\n\u001b[1;32m    314\u001b[0m             \u001b[0;32melse\u001b[0m\u001b[0;34m:\u001b[0m\u001b[0;34m\u001b[0m\u001b[0;34m\u001b[0m\u001b[0m\n",
      "\u001b[0;31mKeyboardInterrupt\u001b[0m: "
     ]
    }
   ],
   "source": [
    "param_grid1 = {\"n_estimators\" : [9, 18, 27, 36, 45, 54, 63],\n",
    "           \"max_depth\" : [1, 5, 10, 15, 20, 25, 30],\n",
    "           \"min_samples_leaf\" : [1, 2, 4, 6, 8, 10]}\n",
    "\n",
    "RF = RandomForestClassifier(random_state=100)\n",
    "# Instantiate the GridSearchCV object: logreg_cv\n",
    "RF_cv1 = GridSearchCV(RF, param_grid1, cv=5,scoring='accuracy',n_jobs=4)\n",
    "\n",
    "# Fit it to the data\n",
    "RF_cv1.fit(xtrain,ytrain)\n",
    "\n",
    "#RF_cv1.cv_results_, \n",
    "RF_cv1.best_params_, RF_cv1.best_score_"
   ]
  },
  {
   "cell_type": "markdown",
   "metadata": {},
   "source": [
    "#### So we found 'max_depth': 15, 'min_samples_leaf': 4, 'n_estimators': 63 as optimum parameters"
   ]
  },
  {
   "cell_type": "code",
   "execution_count": 83,
   "metadata": {
    "execution": {
     "iopub.execute_input": "2022-07-08T03:07:56.152773Z",
     "iopub.status.busy": "2022-07-08T03:07:56.150422Z",
     "iopub.status.idle": "2022-07-08T03:16:23.870162Z",
     "shell.execute_reply": "2022-07-08T03:16:23.869201Z",
     "shell.execute_reply.started": "2022-07-08T03:07:56.15274Z"
    }
   },
   "outputs": [
    {
     "data": {
      "text/plain": [
       "({'max_depth': 14, 'min_samples_leaf': 4, 'n_estimators': 63},\n",
       " 0.8110036588319229)"
      ]
     },
     "execution_count": 83,
     "metadata": {},
     "output_type": "execute_result"
    }
   ],
   "source": [
    "param_grid2 = {\"n_estimators\" : [63,66],\n",
    "           \"max_depth\" : [14,15],\n",
    "           \"min_samples_leaf\" : [4,5]}\n",
    "\n",
    "RF = RandomForestClassifier(random_state=100)\n",
    "# Instantiate the GridSearchCV object: logreg_cv\n",
    "RF_cv2 = GridSearchCV(RF, param_grid2, cv=5,scoring='accuracy',n_jobs=4)\n",
    "\n",
    "# Fit it to the data\n",
    "RF_cv2.fit(xtrain,ytrain)\n",
    "\n",
    "#RF_cv2.grid_scores_, \n",
    "RF_cv2.best_params_, RF_cv2.best_score_"
   ]
  },
  {
   "cell_type": "markdown",
   "metadata": {},
   "source": [
    "## Tuned Random Forest"
   ]
  },
  {
   "cell_type": "code",
   "execution_count": 84,
   "metadata": {
    "execution": {
     "iopub.execute_input": "2022-07-08T03:16:23.872807Z",
     "iopub.status.busy": "2022-07-08T03:16:23.871637Z",
     "iopub.status.idle": "2022-07-08T03:16:23.880105Z",
     "shell.execute_reply": "2022-07-08T03:16:23.87904Z",
     "shell.execute_reply.started": "2022-07-08T03:16:23.872759Z"
    }
   },
   "outputs": [
    {
     "data": {
      "text/html": [
       "<style>#sk-container-id-2 {color: black;background-color: white;}#sk-container-id-2 pre{padding: 0;}#sk-container-id-2 div.sk-toggleable {background-color: white;}#sk-container-id-2 label.sk-toggleable__label {cursor: pointer;display: block;width: 100%;margin-bottom: 0;padding: 0.3em;box-sizing: border-box;text-align: center;}#sk-container-id-2 label.sk-toggleable__label-arrow:before {content: \"▸\";float: left;margin-right: 0.25em;color: #696969;}#sk-container-id-2 label.sk-toggleable__label-arrow:hover:before {color: black;}#sk-container-id-2 div.sk-estimator:hover label.sk-toggleable__label-arrow:before {color: black;}#sk-container-id-2 div.sk-toggleable__content {max-height: 0;max-width: 0;overflow: hidden;text-align: left;background-color: #f0f8ff;}#sk-container-id-2 div.sk-toggleable__content pre {margin: 0.2em;color: black;border-radius: 0.25em;background-color: #f0f8ff;}#sk-container-id-2 input.sk-toggleable__control:checked~div.sk-toggleable__content {max-height: 200px;max-width: 100%;overflow: auto;}#sk-container-id-2 input.sk-toggleable__control:checked~label.sk-toggleable__label-arrow:before {content: \"▾\";}#sk-container-id-2 div.sk-estimator input.sk-toggleable__control:checked~label.sk-toggleable__label {background-color: #d4ebff;}#sk-container-id-2 div.sk-label input.sk-toggleable__control:checked~label.sk-toggleable__label {background-color: #d4ebff;}#sk-container-id-2 input.sk-hidden--visually {border: 0;clip: rect(1px 1px 1px 1px);clip: rect(1px, 1px, 1px, 1px);height: 1px;margin: -1px;overflow: hidden;padding: 0;position: absolute;width: 1px;}#sk-container-id-2 div.sk-estimator {font-family: monospace;background-color: #f0f8ff;border: 1px dotted black;border-radius: 0.25em;box-sizing: border-box;margin-bottom: 0.5em;}#sk-container-id-2 div.sk-estimator:hover {background-color: #d4ebff;}#sk-container-id-2 div.sk-parallel-item::after {content: \"\";width: 100%;border-bottom: 1px solid gray;flex-grow: 1;}#sk-container-id-2 div.sk-label:hover label.sk-toggleable__label {background-color: #d4ebff;}#sk-container-id-2 div.sk-serial::before {content: \"\";position: absolute;border-left: 1px solid gray;box-sizing: border-box;top: 0;bottom: 0;left: 50%;z-index: 0;}#sk-container-id-2 div.sk-serial {display: flex;flex-direction: column;align-items: center;background-color: white;padding-right: 0.2em;padding-left: 0.2em;position: relative;}#sk-container-id-2 div.sk-item {position: relative;z-index: 1;}#sk-container-id-2 div.sk-parallel {display: flex;align-items: stretch;justify-content: center;background-color: white;position: relative;}#sk-container-id-2 div.sk-item::before, #sk-container-id-2 div.sk-parallel-item::before {content: \"\";position: absolute;border-left: 1px solid gray;box-sizing: border-box;top: 0;bottom: 0;left: 50%;z-index: -1;}#sk-container-id-2 div.sk-parallel-item {display: flex;flex-direction: column;z-index: 1;position: relative;background-color: white;}#sk-container-id-2 div.sk-parallel-item:first-child::after {align-self: flex-end;width: 50%;}#sk-container-id-2 div.sk-parallel-item:last-child::after {align-self: flex-start;width: 50%;}#sk-container-id-2 div.sk-parallel-item:only-child::after {width: 0;}#sk-container-id-2 div.sk-dashed-wrapped {border: 1px dashed gray;margin: 0 0.4em 0.5em 0.4em;box-sizing: border-box;padding-bottom: 0.4em;background-color: white;}#sk-container-id-2 div.sk-label label {font-family: monospace;font-weight: bold;display: inline-block;line-height: 1.2em;}#sk-container-id-2 div.sk-label-container {text-align: center;}#sk-container-id-2 div.sk-container {/* jupyter's `normalize.less` sets `[hidden] { display: none; }` but bootstrap.min.css set `[hidden] { display: none !important; }` so we also need the `!important` here to be able to override the default hidden behavior on the sphinx rendered scikit-learn.org. See: https://github.com/scikit-learn/scikit-learn/issues/21755 */display: inline-block !important;position: relative;}#sk-container-id-2 div.sk-text-repr-fallback {display: none;}</style><div id=\"sk-container-id-2\" class=\"sk-top-container\"><div class=\"sk-text-repr-fallback\"><pre>RandomForestClassifier(max_depth=14, min_samples_leaf=4, n_estimators=63,\n",
       "                       random_state=100)</pre><b>In a Jupyter environment, please rerun this cell to show the HTML representation or trust the notebook. <br />On GitHub, the HTML representation is unable to render, please try loading this page with nbviewer.org.</b></div><div class=\"sk-container\" hidden><div class=\"sk-item\"><div class=\"sk-estimator sk-toggleable\"><input class=\"sk-toggleable__control sk-hidden--visually\" id=\"sk-estimator-id-2\" type=\"checkbox\" checked><label for=\"sk-estimator-id-2\" class=\"sk-toggleable__label sk-toggleable__label-arrow\">RandomForestClassifier</label><div class=\"sk-toggleable__content\"><pre>RandomForestClassifier(max_depth=14, min_samples_leaf=4, n_estimators=63,\n",
       "                       random_state=100)</pre></div></div></div></div></div>"
      ],
      "text/plain": [
       "RandomForestClassifier(max_depth=14, min_samples_leaf=4, n_estimators=63,\n",
       "                       random_state=100)"
      ]
     },
     "execution_count": 84,
     "metadata": {},
     "output_type": "execute_result"
    }
   ],
   "source": [
    "RF_cv2.best_estimator_"
   ]
  },
  {
   "cell_type": "code",
   "execution_count": 85,
   "metadata": {
    "execution": {
     "iopub.execute_input": "2022-07-08T03:16:23.88255Z",
     "iopub.status.busy": "2022-07-08T03:16:23.882048Z",
     "iopub.status.idle": "2022-07-08T03:16:23.892423Z",
     "shell.execute_reply": "2022-07-08T03:16:23.891324Z",
     "shell.execute_reply.started": "2022-07-08T03:16:23.882483Z"
    }
   },
   "outputs": [],
   "source": [
    "RF_grid = RF_cv2.best_estimator_"
   ]
  },
  {
   "cell_type": "code",
   "execution_count": 86,
   "metadata": {
    "execution": {
     "iopub.execute_input": "2022-07-08T03:16:23.894468Z",
     "iopub.status.busy": "2022-07-08T03:16:23.894104Z",
     "iopub.status.idle": "2022-07-08T03:16:24.866792Z",
     "shell.execute_reply": "2022-07-08T03:16:24.865845Z",
     "shell.execute_reply.started": "2022-07-08T03:16:23.89444Z"
    }
   },
   "outputs": [
    {
     "data": {
      "text/html": [
       "<style>#sk-container-id-3 {color: black;background-color: white;}#sk-container-id-3 pre{padding: 0;}#sk-container-id-3 div.sk-toggleable {background-color: white;}#sk-container-id-3 label.sk-toggleable__label {cursor: pointer;display: block;width: 100%;margin-bottom: 0;padding: 0.3em;box-sizing: border-box;text-align: center;}#sk-container-id-3 label.sk-toggleable__label-arrow:before {content: \"▸\";float: left;margin-right: 0.25em;color: #696969;}#sk-container-id-3 label.sk-toggleable__label-arrow:hover:before {color: black;}#sk-container-id-3 div.sk-estimator:hover label.sk-toggleable__label-arrow:before {color: black;}#sk-container-id-3 div.sk-toggleable__content {max-height: 0;max-width: 0;overflow: hidden;text-align: left;background-color: #f0f8ff;}#sk-container-id-3 div.sk-toggleable__content pre {margin: 0.2em;color: black;border-radius: 0.25em;background-color: #f0f8ff;}#sk-container-id-3 input.sk-toggleable__control:checked~div.sk-toggleable__content {max-height: 200px;max-width: 100%;overflow: auto;}#sk-container-id-3 input.sk-toggleable__control:checked~label.sk-toggleable__label-arrow:before {content: \"▾\";}#sk-container-id-3 div.sk-estimator input.sk-toggleable__control:checked~label.sk-toggleable__label {background-color: #d4ebff;}#sk-container-id-3 div.sk-label input.sk-toggleable__control:checked~label.sk-toggleable__label {background-color: #d4ebff;}#sk-container-id-3 input.sk-hidden--visually {border: 0;clip: rect(1px 1px 1px 1px);clip: rect(1px, 1px, 1px, 1px);height: 1px;margin: -1px;overflow: hidden;padding: 0;position: absolute;width: 1px;}#sk-container-id-3 div.sk-estimator {font-family: monospace;background-color: #f0f8ff;border: 1px dotted black;border-radius: 0.25em;box-sizing: border-box;margin-bottom: 0.5em;}#sk-container-id-3 div.sk-estimator:hover {background-color: #d4ebff;}#sk-container-id-3 div.sk-parallel-item::after {content: \"\";width: 100%;border-bottom: 1px solid gray;flex-grow: 1;}#sk-container-id-3 div.sk-label:hover label.sk-toggleable__label {background-color: #d4ebff;}#sk-container-id-3 div.sk-serial::before {content: \"\";position: absolute;border-left: 1px solid gray;box-sizing: border-box;top: 0;bottom: 0;left: 50%;z-index: 0;}#sk-container-id-3 div.sk-serial {display: flex;flex-direction: column;align-items: center;background-color: white;padding-right: 0.2em;padding-left: 0.2em;position: relative;}#sk-container-id-3 div.sk-item {position: relative;z-index: 1;}#sk-container-id-3 div.sk-parallel {display: flex;align-items: stretch;justify-content: center;background-color: white;position: relative;}#sk-container-id-3 div.sk-item::before, #sk-container-id-3 div.sk-parallel-item::before {content: \"\";position: absolute;border-left: 1px solid gray;box-sizing: border-box;top: 0;bottom: 0;left: 50%;z-index: -1;}#sk-container-id-3 div.sk-parallel-item {display: flex;flex-direction: column;z-index: 1;position: relative;background-color: white;}#sk-container-id-3 div.sk-parallel-item:first-child::after {align-self: flex-end;width: 50%;}#sk-container-id-3 div.sk-parallel-item:last-child::after {align-self: flex-start;width: 50%;}#sk-container-id-3 div.sk-parallel-item:only-child::after {width: 0;}#sk-container-id-3 div.sk-dashed-wrapped {border: 1px dashed gray;margin: 0 0.4em 0.5em 0.4em;box-sizing: border-box;padding-bottom: 0.4em;background-color: white;}#sk-container-id-3 div.sk-label label {font-family: monospace;font-weight: bold;display: inline-block;line-height: 1.2em;}#sk-container-id-3 div.sk-label-container {text-align: center;}#sk-container-id-3 div.sk-container {/* jupyter's `normalize.less` sets `[hidden] { display: none; }` but bootstrap.min.css set `[hidden] { display: none !important; }` so we also need the `!important` here to be able to override the default hidden behavior on the sphinx rendered scikit-learn.org. See: https://github.com/scikit-learn/scikit-learn/issues/21755 */display: inline-block !important;position: relative;}#sk-container-id-3 div.sk-text-repr-fallback {display: none;}</style><div id=\"sk-container-id-3\" class=\"sk-top-container\"><div class=\"sk-text-repr-fallback\"><pre>RandomForestClassifier(max_depth=14, min_samples_leaf=4, n_estimators=63,\n",
       "                       random_state=100)</pre><b>In a Jupyter environment, please rerun this cell to show the HTML representation or trust the notebook. <br />On GitHub, the HTML representation is unable to render, please try loading this page with nbviewer.org.</b></div><div class=\"sk-container\" hidden><div class=\"sk-item\"><div class=\"sk-estimator sk-toggleable\"><input class=\"sk-toggleable__control sk-hidden--visually\" id=\"sk-estimator-id-3\" type=\"checkbox\" checked><label for=\"sk-estimator-id-3\" class=\"sk-toggleable__label sk-toggleable__label-arrow\">RandomForestClassifier</label><div class=\"sk-toggleable__content\"><pre>RandomForestClassifier(max_depth=14, min_samples_leaf=4, n_estimators=63,\n",
       "                       random_state=100)</pre></div></div></div></div></div>"
      ],
      "text/plain": [
       "RandomForestClassifier(max_depth=14, min_samples_leaf=4, n_estimators=63,\n",
       "                       random_state=100)"
      ]
     },
     "execution_count": 86,
     "metadata": {},
     "output_type": "execute_result"
    }
   ],
   "source": [
    "RF_grid.fit(xtrain, ytrain)"
   ]
  },
  {
   "cell_type": "code",
   "execution_count": 87,
   "metadata": {
    "execution": {
     "iopub.execute_input": "2022-07-08T03:16:24.868855Z",
     "iopub.status.busy": "2022-07-08T03:16:24.868296Z",
     "iopub.status.idle": "2022-07-08T03:16:25.062556Z",
     "shell.execute_reply": "2022-07-08T03:16:25.061705Z",
     "shell.execute_reply.started": "2022-07-08T03:16:24.868817Z"
    }
   },
   "outputs": [],
   "source": [
    "rf_pred_t = RF_grid.predict(xtest)\n",
    "rf_pred_prb_t=RF_grid.predict_proba(xtest)[:,1]"
   ]
  },
  {
   "cell_type": "markdown",
   "metadata": {},
   "source": [
    "### Task 19: Print Classification Report for Tuned Random Forest"
   ]
  },
  {
   "cell_type": "code",
   "execution_count": 88,
   "metadata": {
    "execution": {
     "iopub.execute_input": "2022-07-08T03:16:25.064189Z",
     "iopub.status.busy": "2022-07-08T03:16:25.063769Z",
     "iopub.status.idle": "2022-07-08T03:16:25.098751Z",
     "shell.execute_reply": "2022-07-08T03:16:25.09775Z",
     "shell.execute_reply.started": "2022-07-08T03:16:25.06416Z"
    }
   },
   "outputs": [
    {
     "name": "stdout",
     "output_type": "stream",
     "text": [
      "              precision    recall  f1-score   support\n",
      "\n",
      "           0       0.83      0.94      0.88      8180\n",
      "           1       0.68      0.38      0.49      2566\n",
      "\n",
      "    accuracy                           0.81     10746\n",
      "   macro avg       0.76      0.66      0.69     10746\n",
      "weighted avg       0.80      0.81      0.79     10746\n",
      "\n"
     ]
    }
   ],
   "source": [
    "classification_rf_t=classification_report(ytest,rf_pred_t, output_dict=True)\n",
    "print(classification_report(ytest, rf_pred_t))"
   ]
  },
  {
   "cell_type": "markdown",
   "metadata": {},
   "source": [
    "## ROC Curve for Tuned Random Forest"
   ]
  },
  {
   "cell_type": "code",
   "execution_count": 89,
   "metadata": {
    "execution": {
     "iopub.execute_input": "2022-07-08T03:16:25.101128Z",
     "iopub.status.busy": "2022-07-08T03:16:25.100569Z",
     "iopub.status.idle": "2022-07-08T03:16:25.343025Z",
     "shell.execute_reply": "2022-07-08T03:16:25.342266Z",
     "shell.execute_reply.started": "2022-07-08T03:16:25.101092Z"
    }
   },
   "outputs": [
    {
     "data": {
      "image/png": "[encoded data removed]",
      "text/plain": [
       "<Figure size 576x432 with 1 Axes>"
      ]
     },
     "metadata": {
      "needs_background": "light"
     },
     "output_type": "display_data"
    }
   ],
   "source": [
    "auc_rf_t=roc_auc_score(ytest,rf_pred_prb_t)\n",
    "fpr,tpr,threshold=roc_curve(ytest,rf_pred_prb_t)\n",
    "plot_roc_curve(fpr,tpr,label='AUC Tuned = %0.3f'% auc_rf_t)"
   ]
  },
  {
   "cell_type": "markdown",
   "metadata": {},
   "source": [
    "# Save the Model"
   ]
  },
  {
   "cell_type": "markdown",
   "metadata": {},
   "source": [
    "|"
   ]
  },
  {
   "cell_type": "markdown",
   "metadata": {},
   "source": [
    "|"
   ]
  },
  {
   "cell_type": "code",
   "execution_count": 92,
   "metadata": {},
   "outputs": [],
   "source": [
    "import pickle\n",
    "with open('income_predictor.pickle', 'wb') as f:\n",
    "    pickle.dump(clf_rf, f)"
   ]
  },
  {
   "cell_type": "code",
   "execution_count": 100,
   "metadata": {},
   "outputs": [],
   "source": [
    "import json\n",
    "columns = {\n",
    "    'data_columns' : [col.lower() for col in X.columns]\n",
    "}\n",
    "with open(\"columns.json\",\"w\") as f:\n",
    "    f.write(json.dumps(columns))"
   ]
  },
  {
   "cell_type": "code",
   "execution_count": 101,
   "metadata": {},
   "outputs": [
    {
     "name": "stdout",
     "output_type": "stream",
     "text": [
      "total 22M\r\n",
      "drwxrwxr-x 3 alex alex 4.0K Oct 25 15:52 .\r\n",
      "drwxrwxr-x 6 alex alex 4.0K Oct 25 10:25 ..\r\n",
      "-rw-rw-r-- 1 alex alex 5.1M Sep 19  2019 adult.csv\r\n",
      "-rw-rw-r-- 1 alex alex  319 Oct 25 15:52 columns.json\r\n",
      "-rw-rw-r-- 1 alex alex 1.4M Oct 25 13:13 file_name.csv\r\n",
      "-rw-rw-r-- 1 alex alex 194K Oct 25 15:50 income_predictor.ipynb\r\n",
      "-rw-rw-r-- 1 alex alex  15M Oct 25 15:44 income_predictor.pickle\r\n",
      "drwxrwxr-x 2 alex alex 4.0K Oct 25 12:38 .ipynb_checkpoints\r\n",
      "-rw-rw-r-- 1 alex alex   21 Oct 25 10:50 .jovianrc\r\n"
     ]
    }
   ],
   "source": [
    "!ls -alh"
   ]
  },
  {
   "cell_type": "markdown",
   "metadata": {},
   "source": [
    "|"
   ]
  },
  {
   "cell_type": "markdown",
   "metadata": {},
   "source": [
    "|"
   ]
  },
  {
   "cell_type": "markdown",
   "metadata": {},
   "source": [
    "# Finished Stuff"
   ]
  },
  {
   "cell_type": "markdown",
   "metadata": {},
   "source": [
    "## Hyperparameters Tuning Using Randomized Search"
   ]
  },
  {
   "cell_type": "code",
   "execution_count": null,
   "metadata": {
    "execution": {
     "iopub.execute_input": "2022-07-08T03:16:25.345351Z",
     "iopub.status.busy": "2022-07-08T03:16:25.344292Z",
     "iopub.status.idle": "2022-07-08T03:16:25.351395Z",
     "shell.execute_reply": "2022-07-08T03:16:25.350765Z",
     "shell.execute_reply.started": "2022-07-08T03:16:25.345315Z"
    }
   },
   "outputs": [],
   "source": [
    "from sklearn import metrics\n",
    "from sklearn.metrics import classification_report, accuracy_score, confusion_matrix, auc,roc_curve,roc_auc_score\n",
    "from sklearn.ensemble import AdaBoostClassifier\n",
    "from sklearn.model_selection import train_test_split, RandomizedSearchCV, GridSearchCV\n",
    "import xgboost as xgb\n",
    "from sklearn.tree import DecisionTreeClassifier\n",
    "from sklearn.preprocessing import MinMaxScaler"
   ]
  },
  {
   "cell_type": "code",
   "execution_count": null,
   "metadata": {
    "execution": {
     "iopub.execute_input": "2022-07-08T03:16:25.353524Z",
     "iopub.status.busy": "2022-07-08T03:16:25.352628Z",
     "iopub.status.idle": "2022-07-08T03:16:25.368266Z",
     "shell.execute_reply": "2022-07-08T03:16:25.366775Z",
     "shell.execute_reply.started": "2022-07-08T03:16:25.35347Z"
    }
   },
   "outputs": [],
   "source": [
    "rf_rs = RandomForestClassifier(random_state=100)"
   ]
  },
  {
   "cell_type": "code",
   "execution_count": null,
   "metadata": {
    "execution": {
     "iopub.execute_input": "2022-07-08T03:16:25.37005Z",
     "iopub.status.busy": "2022-07-08T03:16:25.369696Z",
     "iopub.status.idle": "2022-07-08T03:16:25.380551Z",
     "shell.execute_reply": "2022-07-08T03:16:25.379888Z",
     "shell.execute_reply.started": "2022-07-08T03:16:25.370019Z"
    }
   },
   "outputs": [],
   "source": [
    "# Number of trees in random forest\n",
    "n_estimators = [int(x) for x in np.linspace(start = 10, stop = 1000, num = 10)]\n",
    "# Maximum number of levels in tree\n",
    "max_depth = [int(x) for x in np.linspace(10, 110, num = 11)]\n",
    "max_depth.append(None)\n",
    "# Minimum number of samples required to split a node\n",
    "min_samples_split = [2, 5, 10]"
   ]
  },
  {
   "cell_type": "code",
   "execution_count": null,
   "metadata": {
    "execution": {
     "iopub.execute_input": "2022-07-08T03:16:25.382685Z",
     "iopub.status.busy": "2022-07-08T03:16:25.38179Z",
     "iopub.status.idle": "2022-07-08T03:16:25.392864Z",
     "shell.execute_reply": "2022-07-08T03:16:25.391933Z",
     "shell.execute_reply.started": "2022-07-08T03:16:25.38265Z"
    }
   },
   "outputs": [],
   "source": [
    "random_grid1 = {\"n_estimators\" : n_estimators,\n",
    "           \"max_depth\" : max_depth,\n",
    "           \"min_samples_split\" :min_samples_split}"
   ]
  },
  {
   "cell_type": "code",
   "execution_count": null,
   "metadata": {
    "execution": {
     "iopub.execute_input": "2022-07-08T03:16:25.394448Z",
     "iopub.status.busy": "2022-07-08T03:16:25.394115Z",
     "iopub.status.idle": "2022-07-08T03:16:25.406785Z",
     "shell.execute_reply": "2022-07-08T03:16:25.406156Z",
     "shell.execute_reply.started": "2022-07-08T03:16:25.394403Z"
    }
   },
   "outputs": [],
   "source": [
    "random_grid1"
   ]
  },
  {
   "cell_type": "code",
   "execution_count": null,
   "metadata": {
    "execution": {
     "iopub.execute_input": "2022-07-08T03:16:25.409441Z",
     "iopub.status.busy": "2022-07-08T03:16:25.407961Z",
     "iopub.status.idle": "2022-07-08T03:57:42.283021Z",
     "shell.execute_reply": "2022-07-08T03:57:42.281959Z",
     "shell.execute_reply.started": "2022-07-08T03:16:25.409382Z"
    }
   },
   "outputs": [],
   "source": [
    "rf_random = RandomizedSearchCV(estimator = rf_rs, param_distributions = random_grid1, n_iter = 50, cv = 5, verbose=2, random_state=100)\n",
    "# Fit the random search model\n",
    "rf_random.fit(xtrain, ytrain)"
   ]
  },
  {
   "cell_type": "markdown",
   "metadata": {},
   "source": [
    "## Selecting the best classifier"
   ]
  },
  {
   "cell_type": "code",
   "execution_count": null,
   "metadata": {
    "execution": {
     "iopub.execute_input": "2022-07-08T03:57:42.285649Z",
     "iopub.status.busy": "2022-07-08T03:57:42.284547Z",
     "iopub.status.idle": "2022-07-08T03:57:42.290468Z",
     "shell.execute_reply": "2022-07-08T03:57:42.289526Z",
     "shell.execute_reply.started": "2022-07-08T03:57:42.285608Z"
    }
   },
   "outputs": [],
   "source": [
    "clf_rf_rand=rf_random.best_estimator_"
   ]
  },
  {
   "cell_type": "code",
   "execution_count": null,
   "metadata": {
    "execution": {
     "iopub.execute_input": "2022-07-08T03:57:42.292362Z",
     "iopub.status.busy": "2022-07-08T03:57:42.291876Z",
     "iopub.status.idle": "2022-07-08T03:57:55.269483Z",
     "shell.execute_reply": "2022-07-08T03:57:55.268489Z",
     "shell.execute_reply.started": "2022-07-08T03:57:42.292325Z"
    }
   },
   "outputs": [],
   "source": [
    "clf_rf_rand.fit(xtrain,ytrain)"
   ]
  },
  {
   "cell_type": "code",
   "execution_count": null,
   "metadata": {
    "execution": {
     "iopub.execute_input": "2022-07-08T03:57:55.272838Z",
     "iopub.status.busy": "2022-07-08T03:57:55.272479Z",
     "iopub.status.idle": "2022-07-08T03:57:56.32994Z",
     "shell.execute_reply": "2022-07-08T03:57:56.329046Z",
     "shell.execute_reply.started": "2022-07-08T03:57:55.27281Z"
    }
   },
   "outputs": [],
   "source": [
    "pred_rf_rand=clf_rf_rand.predict(xtest)"
   ]
  },
  {
   "cell_type": "code",
   "execution_count": null,
   "metadata": {
    "execution": {
     "iopub.execute_input": "2022-07-08T03:57:56.331263Z",
     "iopub.status.busy": "2022-07-08T03:57:56.331021Z",
     "iopub.status.idle": "2022-07-08T03:57:57.39859Z",
     "shell.execute_reply": "2022-07-08T03:57:57.397887Z",
     "shell.execute_reply.started": "2022-07-08T03:57:56.33124Z"
    }
   },
   "outputs": [],
   "source": [
    "prb_rf_rand=clf_rf_rand.predict_proba(xtest)[:,1]"
   ]
  },
  {
   "cell_type": "markdown",
   "metadata": {},
   "source": [
    "## Confusion Matrix"
   ]
  },
  {
   "cell_type": "code",
   "execution_count": null,
   "metadata": {
    "execution": {
     "iopub.execute_input": "2022-07-08T03:57:57.400824Z",
     "iopub.status.busy": "2022-07-08T03:57:57.399876Z",
     "iopub.status.idle": "2022-07-08T03:57:57.416343Z",
     "shell.execute_reply": "2022-07-08T03:57:57.415561Z",
     "shell.execute_reply.started": "2022-07-08T03:57:57.400788Z"
    }
   },
   "outputs": [],
   "source": [
    "confusion_matrix(ytest, pred_rf_rand)\n",
    "confusion_matrix(ytest, pred_rf_rand).ravel() \n",
    "tn, fp, fn, tp = confusion_matrix(ytest, pred_rf_rand).ravel()\n",
    "conf_matrix=pd.DataFrame({\"pred 50K+\":[tp,fp],\"pred upto 50K\":[fn,tn]},index=[\"Actual 50K+\",\"Actual upto 50K\"])\n",
    "conf_matrix"
   ]
  },
  {
   "cell_type": "code",
   "execution_count": null,
   "metadata": {
    "execution": {
     "iopub.execute_input": "2022-07-08T03:57:57.418008Z",
     "iopub.status.busy": "2022-07-08T03:57:57.417659Z",
     "iopub.status.idle": "2022-07-08T03:57:57.594674Z",
     "shell.execute_reply": "2022-07-08T03:57:57.593664Z",
     "shell.execute_reply.started": "2022-07-08T03:57:57.417976Z"
    }
   },
   "outputs": [],
   "source": [
    "sns.heatmap(confusion_matrix(ytest, pred_rf_rand), annot= True, fmt='g')\n",
    "plt.show()"
   ]
  },
  {
   "cell_type": "markdown",
   "metadata": {},
   "source": [
    "## Print the Classification Report of Tuned Random Forest through Randomized Search"
   ]
  },
  {
   "cell_type": "code",
   "execution_count": null,
   "metadata": {
    "execution": {
     "iopub.execute_input": "2022-07-08T03:57:57.596785Z",
     "iopub.status.busy": "2022-07-08T03:57:57.596437Z",
     "iopub.status.idle": "2022-07-08T03:57:57.608592Z",
     "shell.execute_reply": "2022-07-08T03:57:57.607562Z",
     "shell.execute_reply.started": "2022-07-08T03:57:57.596756Z"
    }
   },
   "outputs": [],
   "source": [
    "tn, fp, fn, tp = confusion_matrix(ytest, pred_rf_rand).ravel()\n",
    "rf_r_specificity= tn/(tn+fp)\n",
    "rf_r_specificity"
   ]
  },
  {
   "cell_type": "code",
   "execution_count": null,
   "metadata": {
    "execution": {
     "iopub.execute_input": "2022-07-08T03:57:57.611115Z",
     "iopub.status.busy": "2022-07-08T03:57:57.610515Z",
     "iopub.status.idle": "2022-07-08T03:57:57.64604Z",
     "shell.execute_reply": "2022-07-08T03:57:57.645138Z",
     "shell.execute_reply.started": "2022-07-08T03:57:57.611078Z"
    }
   },
   "outputs": [],
   "source": [
    "classification_rf_r=classification_report(ytest,pred_rf_rand, output_dict=True)\n",
    "print(classification_report(ytest,pred_rf_rand))"
   ]
  },
  {
   "cell_type": "markdown",
   "metadata": {},
   "source": [
    "## ROC Curve"
   ]
  },
  {
   "cell_type": "code",
   "execution_count": null,
   "metadata": {
    "execution": {
     "iopub.execute_input": "2022-07-08T03:57:57.647728Z",
     "iopub.status.busy": "2022-07-08T03:57:57.647256Z",
     "iopub.status.idle": "2022-07-08T03:57:57.910153Z",
     "shell.execute_reply": "2022-07-08T03:57:57.909113Z",
     "shell.execute_reply.started": "2022-07-08T03:57:57.647699Z"
    }
   },
   "outputs": [],
   "source": [
    "auc_rf_r=roc_auc_score(ytest,prb_rf_rand)\n",
    "fpr,tpr,threshold=roc_curve(ytest,prb_rf_rand)\n",
    "plot_roc_curve(fpr,tpr,label='AUC Tuned Random = %0.3f'% auc_rf_r)"
   ]
  },
  {
   "cell_type": "code",
   "execution_count": null,
   "metadata": {
    "execution": {
     "iopub.execute_input": "2022-07-08T03:57:57.911857Z",
     "iopub.status.busy": "2022-07-08T03:57:57.911579Z",
     "iopub.status.idle": "2022-07-08T03:57:58.182342Z",
     "shell.execute_reply": "2022-07-08T03:57:58.18067Z",
     "shell.execute_reply.started": "2022-07-08T03:57:57.91183Z"
    }
   },
   "outputs": [],
   "source": [
    "plt.figure(0).clf()\n",
    "sns.set_context('poster')\n",
    "plt.figure(figsize=(12,8))\n",
    "plt.xlabel('True Positive Rate')\n",
    "plt.ylabel('False Positive Rate')\n",
    "plt.title('ROC Curve')\n",
    "\n",
    "fpr, tpr, threshold = metrics.roc_curve(ytest, rf_pred_prb)\n",
    "auc = metrics.roc_auc_score(ytest, rf_pred_prb)\n",
    "plt.plot(fpr,tpr,label=\"AUC=\"+str(round(auc,3)))\n",
    "\n",
    "\n",
    "fpr, tpr, threshold = metrics.roc_curve(ytest, rf_pred_prb_t)\n",
    "auc = metrics.roc_auc_score(ytest, rf_pred_prb_t)\n",
    "plt.plot(fpr,tpr,label=\"AUC Tuned using GridSearchCV=\"+str(round(auc,3)))\n",
    "\n",
    "\n",
    "fpr, tpr, threshold = metrics.roc_curve(ytest, prb_rf_rand)\n",
    "auc = metrics.roc_auc_score(ytest, prb_rf_rand)\n",
    "plt.plot(fpr,tpr,label=\"AUC Tuned using RandomizedSearchCV=\"+str(round(auc,3)))\n",
    "\n",
    "plt.legend(loc=0)"
   ]
  },
  {
   "cell_type": "markdown",
   "metadata": {},
   "source": [
    "## Ada Boost"
   ]
  },
  {
   "cell_type": "code",
   "execution_count": null,
   "metadata": {
    "execution": {
     "iopub.execute_input": "2022-07-08T03:57:58.184511Z",
     "iopub.status.busy": "2022-07-08T03:57:58.184115Z",
     "iopub.status.idle": "2022-07-08T03:57:59.298794Z",
     "shell.execute_reply": "2022-07-08T03:57:59.297823Z",
     "shell.execute_reply.started": "2022-07-08T03:57:58.184454Z"
    }
   },
   "outputs": [],
   "source": [
    "clf_adb = AdaBoostClassifier(random_state=100)\n",
    "clf_adb.fit(xtrain, ytrain) "
   ]
  },
  {
   "cell_type": "code",
   "execution_count": null,
   "metadata": {
    "execution": {
     "iopub.execute_input": "2022-07-08T03:57:59.312884Z",
     "iopub.status.busy": "2022-07-08T03:57:59.312534Z",
     "iopub.status.idle": "2022-07-08T03:57:59.565328Z",
     "shell.execute_reply": "2022-07-08T03:57:59.564033Z",
     "shell.execute_reply.started": "2022-07-08T03:57:59.312855Z"
    }
   },
   "outputs": [],
   "source": [
    "pred_clf_adb=clf_adb.predict(xtest)\n",
    "adb_pred_prb=clf_adb.predict_proba(xtest)[:,1]"
   ]
  },
  {
   "cell_type": "markdown",
   "metadata": {},
   "source": [
    "## Confusion Matrix"
   ]
  },
  {
   "cell_type": "code",
   "execution_count": null,
   "metadata": {
    "execution": {
     "iopub.execute_input": "2022-07-08T03:57:59.567836Z",
     "iopub.status.busy": "2022-07-08T03:57:59.567397Z",
     "iopub.status.idle": "2022-07-08T03:57:59.588312Z",
     "shell.execute_reply": "2022-07-08T03:57:59.587431Z",
     "shell.execute_reply.started": "2022-07-08T03:57:59.567799Z"
    }
   },
   "outputs": [],
   "source": [
    "confusion_matrix(ytest, pred_clf_adb)\n",
    "confusion_matrix(ytest, pred_clf_adb).ravel() \n",
    "tn, fp, fn, tp = confusion_matrix(ytest, pred_clf_adb).ravel()\n",
    "conf_matrix=pd.DataFrame({\"pred 50K+\":[tp,fp],\"pred upto 50K\":[fn,tn]},index=[\"Actual 50K+\",\"Actual upto 50K\"])\n",
    "conf_matrix"
   ]
  },
  {
   "cell_type": "code",
   "execution_count": null,
   "metadata": {
    "execution": {
     "iopub.execute_input": "2022-07-08T03:57:59.589718Z",
     "iopub.status.busy": "2022-07-08T03:57:59.589346Z",
     "iopub.status.idle": "2022-07-08T03:57:59.764147Z",
     "shell.execute_reply": "2022-07-08T03:57:59.762878Z",
     "shell.execute_reply.started": "2022-07-08T03:57:59.589678Z"
    }
   },
   "outputs": [],
   "source": [
    "sns.heatmap(confusion_matrix(ytest, pred_clf_adb), annot= True, fmt='g')\n",
    "plt.show()"
   ]
  },
  {
   "cell_type": "markdown",
   "metadata": {},
   "source": [
    "## Print Classification Report for Ada Boost"
   ]
  },
  {
   "cell_type": "code",
   "execution_count": null,
   "metadata": {
    "execution": {
     "iopub.execute_input": "2022-07-08T03:57:59.765432Z",
     "iopub.status.busy": "2022-07-08T03:57:59.765225Z",
     "iopub.status.idle": "2022-07-08T03:57:59.801108Z",
     "shell.execute_reply": "2022-07-08T03:57:59.800089Z",
     "shell.execute_reply.started": "2022-07-08T03:57:59.765409Z"
    }
   },
   "outputs": [],
   "source": [
    "classification_adb=classification_report(ytest,pred_clf_adb, output_dict=True)\n",
    "print(classification_report(ytest,pred_clf_adb))"
   ]
  },
  {
   "cell_type": "markdown",
   "metadata": {},
   "source": [
    "## ROC Curve"
   ]
  },
  {
   "cell_type": "code",
   "execution_count": null,
   "metadata": {
    "execution": {
     "iopub.execute_input": "2022-07-08T03:57:59.802554Z",
     "iopub.status.busy": "2022-07-08T03:57:59.80217Z",
     "iopub.status.idle": "2022-07-08T03:58:00.047126Z",
     "shell.execute_reply": "2022-07-08T03:58:00.045949Z",
     "shell.execute_reply.started": "2022-07-08T03:57:59.802511Z"
    }
   },
   "outputs": [],
   "source": [
    "auc_adb=roc_auc_score(ytest,adb_pred_prb)\n",
    "fpr,tpr,threshold=roc_curve(ytest,adb_pred_prb)\n",
    "plot_roc_curve(fpr,tpr,label='AUC = %0.3f'% auc_adb)"
   ]
  },
  {
   "cell_type": "markdown",
   "metadata": {},
   "source": [
    "## XGBoost\n",
    "### Extreme Gradient Boosting Algorithm"
   ]
  },
  {
   "cell_type": "code",
   "execution_count": null,
   "metadata": {
    "execution": {
     "iopub.execute_input": "2022-07-08T03:58:00.048968Z",
     "iopub.status.busy": "2022-07-08T03:58:00.048631Z",
     "iopub.status.idle": "2022-07-08T03:58:07.242673Z",
     "shell.execute_reply": "2022-07-08T03:58:07.241438Z",
     "shell.execute_reply.started": "2022-07-08T03:58:00.048939Z"
    }
   },
   "outputs": [],
   "source": [
    "clf_xgb = xgb.XGBClassifier(seed=25,nthread=1,random_state=100)\n",
    "clf_xgb.fit(xtrain, ytrain)"
   ]
  },
  {
   "cell_type": "code",
   "execution_count": null,
   "metadata": {
    "execution": {
     "iopub.execute_input": "2022-07-08T03:58:07.24403Z",
     "iopub.status.busy": "2022-07-08T03:58:07.243765Z",
     "iopub.status.idle": "2022-07-08T03:58:07.348709Z",
     "shell.execute_reply": "2022-07-08T03:58:07.347566Z",
     "shell.execute_reply.started": "2022-07-08T03:58:07.244003Z"
    }
   },
   "outputs": [],
   "source": [
    "xgb_pred = clf_xgb.predict(xtest)\n",
    "xgb_pred_prb=clf_xgb.predict_proba(xtest)[:,1]"
   ]
  },
  {
   "cell_type": "markdown",
   "metadata": {},
   "source": [
    "## Print Classification Report of XGBoost"
   ]
  },
  {
   "cell_type": "markdown",
   "metadata": {},
   "source": [
    "## Confusion Matrix"
   ]
  },
  {
   "cell_type": "code",
   "execution_count": null,
   "metadata": {
    "execution": {
     "iopub.execute_input": "2022-07-08T03:58:07.350858Z",
     "iopub.status.busy": "2022-07-08T03:58:07.35002Z",
     "iopub.status.idle": "2022-07-08T03:58:07.367715Z",
     "shell.execute_reply": "2022-07-08T03:58:07.366573Z",
     "shell.execute_reply.started": "2022-07-08T03:58:07.350827Z"
    }
   },
   "outputs": [],
   "source": [
    "confusion_matrix(ytest, xgb_pred)\n",
    "confusion_matrix(ytest, xgb_pred).ravel() \n",
    "tn, fp, fn, tp = confusion_matrix(ytest, xgb_pred).ravel()\n",
    "conf_matrix=pd.DataFrame({\"pred 50K+\":[tp,fp],\"pred upto 50K\":[fn,tn]},index=[\"Actual 50K+\",\"Actual upto 50K\"])\n",
    "conf_matrix"
   ]
  },
  {
   "cell_type": "code",
   "execution_count": null,
   "metadata": {
    "execution": {
     "iopub.execute_input": "2022-07-08T03:58:07.369824Z",
     "iopub.status.busy": "2022-07-08T03:58:07.369393Z",
     "iopub.status.idle": "2022-07-08T03:58:07.545067Z",
     "shell.execute_reply": "2022-07-08T03:58:07.54434Z",
     "shell.execute_reply.started": "2022-07-08T03:58:07.369784Z"
    }
   },
   "outputs": [],
   "source": [
    "sns.heatmap(confusion_matrix(ytest, xgb_pred), annot= True, fmt='g')\n",
    "plt.show()"
   ]
  },
  {
   "cell_type": "code",
   "execution_count": null,
   "metadata": {
    "execution": {
     "iopub.execute_input": "2022-07-08T03:58:07.546689Z",
     "iopub.status.busy": "2022-07-08T03:58:07.546194Z",
     "iopub.status.idle": "2022-07-08T03:58:07.579187Z",
     "shell.execute_reply": "2022-07-08T03:58:07.578178Z",
     "shell.execute_reply.started": "2022-07-08T03:58:07.546659Z"
    }
   },
   "outputs": [],
   "source": [
    "classification_xgb=classification_report(ytest,xgb_pred, output_dict=True)\n",
    "print(classification_report(ytest,xgb_pred))"
   ]
  },
  {
   "cell_type": "markdown",
   "metadata": {},
   "source": [
    "## ROC Curve"
   ]
  },
  {
   "cell_type": "code",
   "execution_count": null,
   "metadata": {
    "execution": {
     "iopub.execute_input": "2022-07-08T03:58:07.580627Z",
     "iopub.status.busy": "2022-07-08T03:58:07.580353Z",
     "iopub.status.idle": "2022-07-08T03:58:07.796121Z",
     "shell.execute_reply": "2022-07-08T03:58:07.794745Z",
     "shell.execute_reply.started": "2022-07-08T03:58:07.580603Z"
    }
   },
   "outputs": [],
   "source": [
    "auc_xgb=roc_auc_score(ytest,xgb_pred_prb)\n",
    "fpr,tpr,threshold=roc_curve(ytest,xgb_pred_prb)\n",
    "plot_roc_curve(fpr,tpr,label='AUC = %0.3f'% auc_xgb)"
   ]
  },
  {
   "cell_type": "markdown",
   "metadata": {},
   "source": [
    "## Comparison"
   ]
  },
  {
   "cell_type": "code",
   "execution_count": null,
   "metadata": {
    "execution": {
     "iopub.execute_input": "2022-07-08T03:58:07.797785Z",
     "iopub.status.busy": "2022-07-08T03:58:07.797533Z",
     "iopub.status.idle": "2022-07-08T03:58:07.805291Z",
     "shell.execute_reply": "2022-07-08T03:58:07.80404Z",
     "shell.execute_reply.started": "2022-07-08T03:58:07.797762Z"
    }
   },
   "outputs": [],
   "source": [
    "print(round(classification_adb['0']['precision'],2))\n",
    "print(round(classification_adb['1']['precision'],2))\n",
    "print(round(classification_adb['0']['recall'],2))\n",
    "print(round(classification_adb['1']['recall'],2))\n",
    "print(round(classification_adb['0']['f1-score'],2))\n",
    "print(round(classification_adb['1']['f1-score'],2))\n",
    "print(round(classification_adb['accuracy'],2))\n"
   ]
  },
  {
   "cell_type": "code",
   "execution_count": null,
   "metadata": {
    "execution": {
     "iopub.execute_input": "2022-07-08T03:58:07.807309Z",
     "iopub.status.busy": "2022-07-08T03:58:07.806769Z",
     "iopub.status.idle": "2022-07-08T03:58:07.845963Z",
     "shell.execute_reply": "2022-07-08T03:58:07.844801Z",
     "shell.execute_reply.started": "2022-07-08T03:58:07.807286Z"
    }
   },
   "outputs": [],
   "source": [
    "comparison_dict={\"Algorithm\":[\"Decision Tree\",\"Random Forest\",\"Tuned Random Forest(Grid)\",\"Tuned Random Forest(Random)\",\"XGBoost\",\"Ada Boost\"],\n",
    "                 \"Precision[0]\":[round(classification_dt['0']['precision'],2),round(classification_rf['0']['precision'],2),round(classification_rf_t['0']['precision'],2),round(classification_rf_r['0']['precision'],2),round(classification_xgb['0']['precision'],2),round(classification_adb['0']['precision'],2)],\n",
    "                 \"Precision[1]\":[round(classification_dt['1']['precision'],2),round(classification_rf['1']['precision'],2),round(classification_rf_t['1']['precision'],2),round(classification_rf_r['1']['precision'],2),round(classification_xgb['1']['precision'],2),round(classification_adb['1']['precision'],2)],\n",
    "                 \"recall[0]\":[round(classification_dt['0']['recall'],2),round(classification_rf['0']['recall'],2),round(classification_rf_t['0']['recall'],2),round(classification_rf_r['0']['recall'],2),round(classification_xgb['0']['recall'],2),round(classification_adb['0']['recall'],2)],\n",
    "                 \"recall[1]\":[round(classification_dt['1']['recall'],2),round(classification_rf['1']['recall'],2),round(classification_rf_t['1']['recall'],2),round(classification_rf_r['1']['recall'],2),round(classification_xgb['1']['recall'],2),round(classification_adb['1']['recall'],2)],\n",
    "                 \"F1 Score[0]\":[round(classification_dt['0']['f1-score'],2),round(classification_rf['0']['f1-score'],2),round(classification_rf_t['0']['f1-score'],2),round(classification_rf_r['0']['f1-score'],2),round(classification_xgb['0']['f1-score'],2),round(classification_adb['0']['f1-score'],2)],\n",
    "                 \"F1 Score[1]\":[round(classification_dt['1']['f1-score'],2),round(classification_rf['1']['f1-score'],2),round(classification_rf_t['1']['f1-score'],2),round(classification_rf_r['1']['f1-score'],2),round(classification_xgb['1']['f1-score'],2),round(classification_adb['1']['f1-score'],2)],\n",
    "                 \"Accuracy\":[round(classification_dt['accuracy'],2),round(classification_rf['accuracy'],2),round(classification_rf_t['accuracy'],2),round(classification_rf_r['accuracy'],2),round(classification_xgb['accuracy'],2),round(classification_adb['accuracy'],2)],\n",
    "                 \"AUC\":[round(auc_dt,2),round(auc_rf,2),round(auc_rf_t,2),round(auc_rf_r,2),round(auc_xgb,2),round(auc_adb,2)],\n",
    "                }\n",
    "comparison=pd.DataFrame(comparison_dict)\n",
    "comparison.sort_values(['AUC', 'F1 Score[1]', 'Accuracy'], ascending=False)"
   ]
  },
  {
   "cell_type": "code",
   "execution_count": null,
   "metadata": {},
   "outputs": [],
   "source": []
  }
 ],
 "metadata": {
  "kernelspec": {
   "display_name": "Python 3 (ipykernel)",
   "language": "python",
   "name": "python3"
  },
  "language_info": {
   "codemirror_mode": {
    "name": "ipython",
    "version": 3
   },
   "file_extension": ".py",
   "mimetype": "text/x-python",
   "name": "python",
   "nbconvert_exporter": "python",
   "pygments_lexer": "ipython3",
   "version": "3.9.7"
  }
 },
 "nbformat": 4,
 "nbformat_minor": 4
}
